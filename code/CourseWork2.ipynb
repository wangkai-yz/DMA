{
 "cells": [
  {
   "cell_type": "code",
   "execution_count": null,
   "metadata": {
    "collapsed": false
   },
   "outputs": [],
   "source": [
    "from google.colab import drive\n",
    "drive.mount('/content/drive')"
   ]
  },
  {
   "cell_type": "code",
   "execution_count": null,
   "metadata": {},
   "outputs": [],
   "source": [
    "pip install imblearn"
   ]
  },
  {
   "cell_type": "code",
   "execution_count": null,
   "metadata": {
    "collapsed": false
   },
   "outputs": [],
   "source": [
    "pip install catboost"
   ]
  },
  {
   "cell_type": "code",
   "execution_count": null,
   "metadata": {
    "collapsed": false
   },
   "outputs": [],
   "source": [
    "pip install seaborn"
   ]
  },
  {
   "cell_type": "code",
   "execution_count": null,
   "metadata": {},
   "outputs": [],
   "source": [
    "pip install optuna"
   ]
  },
  {
   "cell_type": "code",
   "execution_count": 22,
   "metadata": {
    "execution": {
     "iopub.execute_input": "2023-04-01T14:21:25.358714Z",
     "iopub.status.busy": "2023-04-01T14:21:25.357687Z",
     "iopub.status.idle": "2023-04-01T14:21:25.925930Z",
     "shell.execute_reply": "2023-04-01T14:21:25.924588Z",
     "shell.execute_reply.started": "2023-04-01T14:21:25.358672Z"
    },
    "executionInfo": {
     "elapsed": 2812,
     "status": "ok",
     "timestamp": 1680519987995,
     "user": {
      "displayName": "Yiming Lin",
      "userId": "14561580860602707809"
     },
     "user_tz": -60
    },
    "id": "Yuf0ndwDB5aR",
    "pycharm": {
     "is_executing": true
    },
    "trusted": true
   },
   "outputs": [],
   "source": [
    "import pandas as pd\n",
    "import seaborn as sns\n",
    "from sklearn.experimental import enable_iterative_imputer\n",
    "from sklearn.impute import IterativeImputer\n",
    "import numpy as np\n",
    "import matplotlib.pyplot as plt\n",
    "from sklearn import preprocessing\n",
    "from sklearn.model_selection import GridSearchCV, KFold,StratifiedKFold, cross_val_score\n",
    "from catboost import CatBoostClassifier, Pool\n",
    "from catboost import cv\n",
    "from sklearn.metrics import confusion_matrix, classification_report, RocCurveDisplay, accuracy_score, f1_score, roc_auc_score, ConfusionMatrixDisplay\n",
    "from sklearn import metrics\n",
    "from sklearn.ensemble import GradientBoostingClassifier\n",
    "from sklearn.ensemble import RandomForestClassifier as RFC\n",
    "from sklearn.feature_selection import RFE\n",
    "import optuna"
   ]
  },
  {
   "cell_type": "code",
   "execution_count": 6,
   "metadata": {
    "execution": {
     "iopub.execute_input": "2023-04-01T14:21:28.255063Z",
     "iopub.status.busy": "2023-04-01T14:21:28.253716Z",
     "iopub.status.idle": "2023-04-01T14:21:28.382876Z",
     "shell.execute_reply": "2023-04-01T14:21:28.381530Z",
     "shell.execute_reply.started": "2023-04-01T14:21:28.255007Z"
    },
    "executionInfo": {
     "elapsed": 1724,
     "status": "ok",
     "timestamp": 1680520021756,
     "user": {
      "displayName": "Yiming Lin",
      "userId": "14561580860602707809"
     },
     "user_tz": -60
    },
    "id": "O3neG1sLB5aT",
    "pycharm": {
     "is_executing": true
    },
    "trusted": true
   },
   "outputs": [],
   "source": [
    "df_feature = pd.read_csv('./training_set_features.csv', index_col=False)\n",
    "df_label = pd.read_csv('./training_set_labels.csv', index_col=False)"
   ]
  },
  {
   "cell_type": "code",
   "execution_count": 7,
   "metadata": {
    "execution": {
     "iopub.execute_input": "2023-04-01T14:21:31.969336Z",
     "iopub.status.busy": "2023-04-01T14:21:31.968042Z",
     "iopub.status.idle": "2023-04-01T14:21:31.987733Z",
     "shell.execute_reply": "2023-04-01T14:21:31.986296Z",
     "shell.execute_reply.started": "2023-04-01T14:21:31.969286Z"
    },
    "executionInfo": {
     "elapsed": 2,
     "status": "ok",
     "timestamp": 1680520024534,
     "user": {
      "displayName": "Yiming Lin",
      "userId": "14561580860602707809"
     },
     "user_tz": -60
    },
    "id": "5cqDk3STB5aU",
    "trusted": true
   },
   "outputs": [],
   "source": [
    "df_feature.replace('',np.nan,inplace=True)"
   ]
  },
  {
   "cell_type": "code",
   "execution_count": 8,
   "metadata": {},
   "outputs": [],
   "source": [
    "cat_cols = ['h1n1_concern', 'h1n1_knowledge','opinion_h1n1_vacc_effective', 'opinion_h1n1_risk', 'opinion_h1n1_sick_from_vacc', 'opinion_seas_vacc_effective', 'opinion_seas_risk', 'opinion_seas_sick_from_vacc','doctor_recc_h1n1','doctor_recc_seasonal','chronic_med_condition','health_worker','hhs_geo_region','census_msa','age_group','education','race','sex','income_poverty','marital_status','rent_or_own','employment_status']"
   ]
  },
  {
   "attachments": {},
   "cell_type": "markdown",
   "metadata": {},
   "source": [
    "### sklearn LabelEncoder"
   ]
  },
  {
   "cell_type": "code",
   "execution_count": 9,
   "metadata": {},
   "outputs": [],
   "source": [
    "le = preprocessing.LabelEncoder()\n",
    "for item in cat_cols:\n",
    "    df_feature[item] = le.fit_transform(df_feature[item])+1"
   ]
  },
  {
   "cell_type": "code",
   "execution_count": 34,
   "metadata": {
    "execution": {
     "iopub.execute_input": "2023-04-01T14:21:42.476513Z",
     "iopub.status.busy": "2023-04-01T14:21:42.476056Z",
     "iopub.status.idle": "2023-04-01T14:21:42.491593Z",
     "shell.execute_reply": "2023-04-01T14:21:42.489973Z",
     "shell.execute_reply.started": "2023-04-01T14:21:42.476475Z"
    },
    "executionInfo": {
     "elapsed": 2,
     "status": "ok",
     "timestamp": 1680520024835,
     "user": {
      "displayName": "Yiming Lin",
      "userId": "14561580860602707809"
     },
     "user_tz": -60
    },
    "id": "UHD2JHu6B5aV",
    "trusted": true
   },
   "outputs": [],
   "source": [
    "# df_feature['h1n1_vaccine'] = df_label['h1n1_vaccine']\n",
    "# df_feature['seasonal_vaccine'] = df_label['seasonal_vaccine']\n",
    "# df_vac = df_label['h1n1_vaccine'] | df_label['seasonal_vaccine']"
   ]
  },
  {
   "cell_type": "code",
   "execution_count": 10,
   "metadata": {
    "execution": {
     "iopub.execute_input": "2023-04-01T14:21:45.120915Z",
     "iopub.status.busy": "2023-04-01T14:21:45.119585Z",
     "iopub.status.idle": "2023-04-01T14:21:45.140646Z",
     "shell.execute_reply": "2023-04-01T14:21:45.139161Z",
     "shell.execute_reply.started": "2023-04-01T14:21:45.120857Z"
    },
    "executionInfo": {
     "elapsed": 2,
     "status": "ok",
     "timestamp": 1680520028695,
     "user": {
      "displayName": "Yiming Lin",
      "userId": "14561580860602707809"
     },
     "user_tz": -60
    },
    "id": "3MU6KNYqB5aV",
    "trusted": true
   },
   "outputs": [],
   "source": [
    "df_feature = df_feature.drop(columns='respondent_id',axis=1)"
   ]
  },
  {
   "cell_type": "code",
   "execution_count": null,
   "metadata": {
    "id": "4nB7FPuSypLv"
   },
   "outputs": [],
   "source": [
    "num_cols = df_feature.select_dtype('number').columns"
   ]
  },
  {
   "cell_type": "code",
   "execution_count": 53,
   "metadata": {
    "id": "BlSHbLrvB5aW"
   },
   "outputs": [
    {
     "data": {
      "text/html": [
       "<div>\n",
       "<style scoped>\n",
       "    .dataframe tbody tr th:only-of-type {\n",
       "        vertical-align: middle;\n",
       "    }\n",
       "\n",
       "    .dataframe tbody tr th {\n",
       "        vertical-align: top;\n",
       "    }\n",
       "\n",
       "    .dataframe thead th {\n",
       "        text-align: right;\n",
       "    }\n",
       "</style>\n",
       "<table border=\"1\" class=\"dataframe\">\n",
       "  <thead>\n",
       "    <tr style=\"text-align: right;\">\n",
       "      <th></th>\n",
       "      <th>h1n1_concern</th>\n",
       "      <th>h1n1_knowledge</th>\n",
       "      <th>behavioral_antiviral_meds</th>\n",
       "      <th>behavioral_avoidance</th>\n",
       "      <th>behavioral_face_mask</th>\n",
       "      <th>behavioral_wash_hands</th>\n",
       "      <th>behavioral_large_gatherings</th>\n",
       "      <th>behavioral_outside_home</th>\n",
       "      <th>behavioral_touch_face</th>\n",
       "      <th>doctor_recc_h1n1</th>\n",
       "      <th>...</th>\n",
       "      <th>income_poverty</th>\n",
       "      <th>marital_status</th>\n",
       "      <th>rent_or_own</th>\n",
       "      <th>employment_status</th>\n",
       "      <th>hhs_geo_region</th>\n",
       "      <th>census_msa</th>\n",
       "      <th>household_adults</th>\n",
       "      <th>household_children</th>\n",
       "      <th>h1n1_vaccine</th>\n",
       "      <th>seasonal_vaccine</th>\n",
       "    </tr>\n",
       "  </thead>\n",
       "  <tbody>\n",
       "    <tr>\n",
       "      <th>count</th>\n",
       "      <td>26707.000000</td>\n",
       "      <td>26707.000000</td>\n",
       "      <td>26636.000000</td>\n",
       "      <td>26499.000000</td>\n",
       "      <td>26688.000000</td>\n",
       "      <td>26665.000000</td>\n",
       "      <td>26620.00000</td>\n",
       "      <td>26625.000000</td>\n",
       "      <td>26579.000000</td>\n",
       "      <td>26707.000000</td>\n",
       "      <td>...</td>\n",
       "      <td>26707.000000</td>\n",
       "      <td>26707.000000</td>\n",
       "      <td>26707.000000</td>\n",
       "      <td>26707.000000</td>\n",
       "      <td>26707.000000</td>\n",
       "      <td>26707.000000</td>\n",
       "      <td>26458.000000</td>\n",
       "      <td>26458.000000</td>\n",
       "      <td>26707.000000</td>\n",
       "      <td>26707.000000</td>\n",
       "    </tr>\n",
       "    <tr>\n",
       "      <th>mean</th>\n",
       "      <td>2.609466</td>\n",
       "      <td>2.252705</td>\n",
       "      <td>0.048844</td>\n",
       "      <td>0.725612</td>\n",
       "      <td>0.068982</td>\n",
       "      <td>0.825614</td>\n",
       "      <td>0.35864</td>\n",
       "      <td>0.337315</td>\n",
       "      <td>0.677264</td>\n",
       "      <td>1.121616</td>\n",
       "      <td>...</td>\n",
       "      <td>1.291347</td>\n",
       "      <td>1.387015</td>\n",
       "      <td>1.145542</td>\n",
       "      <td>1.437114</td>\n",
       "      <td>5.829745</td>\n",
       "      <td>1.833489</td>\n",
       "      <td>0.886499</td>\n",
       "      <td>0.534583</td>\n",
       "      <td>0.212454</td>\n",
       "      <td>0.465608</td>\n",
       "    </tr>\n",
       "    <tr>\n",
       "      <th>std</th>\n",
       "      <td>0.921602</td>\n",
       "      <td>0.634498</td>\n",
       "      <td>0.215545</td>\n",
       "      <td>0.446214</td>\n",
       "      <td>0.253429</td>\n",
       "      <td>0.379448</td>\n",
       "      <td>0.47961</td>\n",
       "      <td>0.472802</td>\n",
       "      <td>0.467531</td>\n",
       "      <td>0.518258</td>\n",
       "      <td>...</td>\n",
       "      <td>0.860049</td>\n",
       "      <td>0.585395</td>\n",
       "      <td>0.526582</td>\n",
       "      <td>0.681493</td>\n",
       "      <td>2.805984</td>\n",
       "      <td>0.823313</td>\n",
       "      <td>0.753422</td>\n",
       "      <td>0.928173</td>\n",
       "      <td>0.409052</td>\n",
       "      <td>0.498825</td>\n",
       "    </tr>\n",
       "    <tr>\n",
       "      <th>min</th>\n",
       "      <td>0.000000</td>\n",
       "      <td>0.000000</td>\n",
       "      <td>0.000000</td>\n",
       "      <td>0.000000</td>\n",
       "      <td>0.000000</td>\n",
       "      <td>0.000000</td>\n",
       "      <td>0.00000</td>\n",
       "      <td>0.000000</td>\n",
       "      <td>0.000000</td>\n",
       "      <td>0.000000</td>\n",
       "      <td>...</td>\n",
       "      <td>0.000000</td>\n",
       "      <td>0.000000</td>\n",
       "      <td>0.000000</td>\n",
       "      <td>0.000000</td>\n",
       "      <td>1.000000</td>\n",
       "      <td>1.000000</td>\n",
       "      <td>0.000000</td>\n",
       "      <td>0.000000</td>\n",
       "      <td>0.000000</td>\n",
       "      <td>0.000000</td>\n",
       "    </tr>\n",
       "    <tr>\n",
       "      <th>25%</th>\n",
       "      <td>2.000000</td>\n",
       "      <td>2.000000</td>\n",
       "      <td>0.000000</td>\n",
       "      <td>0.000000</td>\n",
       "      <td>0.000000</td>\n",
       "      <td>1.000000</td>\n",
       "      <td>0.00000</td>\n",
       "      <td>0.000000</td>\n",
       "      <td>0.000000</td>\n",
       "      <td>1.000000</td>\n",
       "      <td>...</td>\n",
       "      <td>1.000000</td>\n",
       "      <td>1.000000</td>\n",
       "      <td>1.000000</td>\n",
       "      <td>1.000000</td>\n",
       "      <td>4.000000</td>\n",
       "      <td>1.000000</td>\n",
       "      <td>0.000000</td>\n",
       "      <td>0.000000</td>\n",
       "      <td>0.000000</td>\n",
       "      <td>0.000000</td>\n",
       "    </tr>\n",
       "    <tr>\n",
       "      <th>50%</th>\n",
       "      <td>3.000000</td>\n",
       "      <td>2.000000</td>\n",
       "      <td>0.000000</td>\n",
       "      <td>1.000000</td>\n",
       "      <td>0.000000</td>\n",
       "      <td>1.000000</td>\n",
       "      <td>0.00000</td>\n",
       "      <td>0.000000</td>\n",
       "      <td>1.000000</td>\n",
       "      <td>1.000000</td>\n",
       "      <td>...</td>\n",
       "      <td>1.000000</td>\n",
       "      <td>1.000000</td>\n",
       "      <td>1.000000</td>\n",
       "      <td>1.000000</td>\n",
       "      <td>6.000000</td>\n",
       "      <td>2.000000</td>\n",
       "      <td>1.000000</td>\n",
       "      <td>0.000000</td>\n",
       "      <td>0.000000</td>\n",
       "      <td>0.000000</td>\n",
       "    </tr>\n",
       "    <tr>\n",
       "      <th>75%</th>\n",
       "      <td>3.000000</td>\n",
       "      <td>3.000000</td>\n",
       "      <td>0.000000</td>\n",
       "      <td>1.000000</td>\n",
       "      <td>0.000000</td>\n",
       "      <td>1.000000</td>\n",
       "      <td>1.00000</td>\n",
       "      <td>1.000000</td>\n",
       "      <td>1.000000</td>\n",
       "      <td>1.000000</td>\n",
       "      <td>...</td>\n",
       "      <td>2.000000</td>\n",
       "      <td>2.000000</td>\n",
       "      <td>1.000000</td>\n",
       "      <td>2.000000</td>\n",
       "      <td>8.000000</td>\n",
       "      <td>3.000000</td>\n",
       "      <td>1.000000</td>\n",
       "      <td>1.000000</td>\n",
       "      <td>0.000000</td>\n",
       "      <td>1.000000</td>\n",
       "    </tr>\n",
       "    <tr>\n",
       "      <th>max</th>\n",
       "      <td>4.000000</td>\n",
       "      <td>3.000000</td>\n",
       "      <td>1.000000</td>\n",
       "      <td>1.000000</td>\n",
       "      <td>1.000000</td>\n",
       "      <td>1.000000</td>\n",
       "      <td>1.00000</td>\n",
       "      <td>1.000000</td>\n",
       "      <td>1.000000</td>\n",
       "      <td>2.000000</td>\n",
       "      <td>...</td>\n",
       "      <td>3.000000</td>\n",
       "      <td>2.000000</td>\n",
       "      <td>2.000000</td>\n",
       "      <td>3.000000</td>\n",
       "      <td>10.000000</td>\n",
       "      <td>3.000000</td>\n",
       "      <td>3.000000</td>\n",
       "      <td>3.000000</td>\n",
       "      <td>1.000000</td>\n",
       "      <td>1.000000</td>\n",
       "    </tr>\n",
       "  </tbody>\n",
       "</table>\n",
       "<p>8 rows × 34 columns</p>\n",
       "</div>"
      ],
      "text/plain": [
       "       h1n1_concern  h1n1_knowledge  behavioral_antiviral_meds  \\\n",
       "count  26707.000000    26707.000000               26636.000000   \n",
       "mean       2.609466        2.252705                   0.048844   \n",
       "std        0.921602        0.634498                   0.215545   \n",
       "min        0.000000        0.000000                   0.000000   \n",
       "25%        2.000000        2.000000                   0.000000   \n",
       "50%        3.000000        2.000000                   0.000000   \n",
       "75%        3.000000        3.000000                   0.000000   \n",
       "max        4.000000        3.000000                   1.000000   \n",
       "\n",
       "       behavioral_avoidance  behavioral_face_mask  behavioral_wash_hands  \\\n",
       "count          26499.000000          26688.000000           26665.000000   \n",
       "mean               0.725612              0.068982               0.825614   \n",
       "std                0.446214              0.253429               0.379448   \n",
       "min                0.000000              0.000000               0.000000   \n",
       "25%                0.000000              0.000000               1.000000   \n",
       "50%                1.000000              0.000000               1.000000   \n",
       "75%                1.000000              0.000000               1.000000   \n",
       "max                1.000000              1.000000               1.000000   \n",
       "\n",
       "       behavioral_large_gatherings  behavioral_outside_home  \\\n",
       "count                  26620.00000             26625.000000   \n",
       "mean                       0.35864                 0.337315   \n",
       "std                        0.47961                 0.472802   \n",
       "min                        0.00000                 0.000000   \n",
       "25%                        0.00000                 0.000000   \n",
       "50%                        0.00000                 0.000000   \n",
       "75%                        1.00000                 1.000000   \n",
       "max                        1.00000                 1.000000   \n",
       "\n",
       "       behavioral_touch_face  doctor_recc_h1n1  ...  income_poverty  \\\n",
       "count           26579.000000      26707.000000  ...    26707.000000   \n",
       "mean                0.677264          1.121616  ...        1.291347   \n",
       "std                 0.467531          0.518258  ...        0.860049   \n",
       "min                 0.000000          0.000000  ...        0.000000   \n",
       "25%                 0.000000          1.000000  ...        1.000000   \n",
       "50%                 1.000000          1.000000  ...        1.000000   \n",
       "75%                 1.000000          1.000000  ...        2.000000   \n",
       "max                 1.000000          2.000000  ...        3.000000   \n",
       "\n",
       "       marital_status   rent_or_own  employment_status  hhs_geo_region  \\\n",
       "count    26707.000000  26707.000000       26707.000000    26707.000000   \n",
       "mean         1.387015      1.145542           1.437114        5.829745   \n",
       "std          0.585395      0.526582           0.681493        2.805984   \n",
       "min          0.000000      0.000000           0.000000        1.000000   \n",
       "25%          1.000000      1.000000           1.000000        4.000000   \n",
       "50%          1.000000      1.000000           1.000000        6.000000   \n",
       "75%          2.000000      1.000000           2.000000        8.000000   \n",
       "max          2.000000      2.000000           3.000000       10.000000   \n",
       "\n",
       "         census_msa  household_adults  household_children  h1n1_vaccine  \\\n",
       "count  26707.000000      26458.000000        26458.000000  26707.000000   \n",
       "mean       1.833489          0.886499            0.534583      0.212454   \n",
       "std        0.823313          0.753422            0.928173      0.409052   \n",
       "min        1.000000          0.000000            0.000000      0.000000   \n",
       "25%        1.000000          0.000000            0.000000      0.000000   \n",
       "50%        2.000000          1.000000            0.000000      0.000000   \n",
       "75%        3.000000          1.000000            1.000000      0.000000   \n",
       "max        3.000000          3.000000            3.000000      1.000000   \n",
       "\n",
       "       seasonal_vaccine  \n",
       "count      26707.000000  \n",
       "mean           0.465608  \n",
       "std            0.498825  \n",
       "min            0.000000  \n",
       "25%            0.000000  \n",
       "50%            0.000000  \n",
       "75%            1.000000  \n",
       "max            1.000000  \n",
       "\n",
       "[8 rows x 34 columns]"
      ]
     },
     "execution_count": 53,
     "metadata": {},
     "output_type": "execute_result"
    }
   ],
   "source": [
    "df_feature.describe()"
   ]
  },
  {
   "cell_type": "code",
   "execution_count": null,
   "metadata": {
    "id": "-3u0d2C-B5aW"
   },
   "outputs": [],
   "source": [
    "df_feature.isnull().sum(axis=0)"
   ]
  },
  {
   "cell_type": "code",
   "execution_count": null,
   "metadata": {
    "id": "0CGkxvuDB5aW"
   },
   "outputs": [],
   "source": [
    "df_label.describe()"
   ]
  },
  {
   "cell_type": "code",
   "execution_count": 14,
   "metadata": {
    "id": "I1h_tsx_B5aX"
   },
   "outputs": [
    {
     "data": {
      "text/plain": [
       "<AxesSubplot:xlabel='h1n1_vaccine', ylabel='count'>"
      ]
     },
     "execution_count": 14,
     "metadata": {},
     "output_type": "execute_result"
    },
    {
     "data": {
      "image/png": "[encoded data removed]",
      "text/plain": [
       "<Figure size 640x480 with 1 Axes>"
      ]
     },
     "metadata": {},
     "output_type": "display_data"
    }
   ],
   "source": [
    "sns.countplot(x=df_label['h1n1_vaccine'], data=df_label)"
   ]
  },
  {
   "cell_type": "code",
   "execution_count": 10,
   "metadata": {
    "id": "VbGk7JG5B5aX"
   },
   "outputs": [
    {
     "data": {
      "text/plain": [
       "<AxesSubplot:xlabel='seasonal_vaccine', ylabel='count'>"
      ]
     },
     "execution_count": 10,
     "metadata": {},
     "output_type": "execute_result"
    },
    {
     "data": {
      "image/png": "[encoded data removed]",
      "text/plain": [
       "<Figure size 640x480 with 1 Axes>"
      ]
     },
     "metadata": {},
     "output_type": "display_data"
    }
   ],
   "source": [
    "sns.countplot(x=df_label['seasonal_vaccine'], data=df_label)"
   ]
  },
  {
   "cell_type": "code",
   "execution_count": 12,
   "metadata": {},
   "outputs": [
    {
     "data": {
      "text/plain": [
       "respondent_id       12435\n",
       "h1n1_vaccine        12435\n",
       "seasonal_vaccine    12435\n",
       "dtype: int64"
      ]
     },
     "execution_count": 12,
     "metadata": {},
     "output_type": "execute_result"
    }
   ],
   "source": [
    "df_label[df_label['seasonal_vaccine']==1].count()"
   ]
  },
  {
   "cell_type": "code",
   "execution_count": 13,
   "metadata": {},
   "outputs": [
    {
     "data": {
      "text/plain": [
       "respondent_id       14272\n",
       "h1n1_vaccine        14272\n",
       "seasonal_vaccine    14272\n",
       "dtype: int64"
      ]
     },
     "execution_count": 13,
     "metadata": {},
     "output_type": "execute_result"
    }
   ],
   "source": [
    "df_label[df_label['seasonal_vaccine']==0].count()"
   ]
  },
  {
   "cell_type": "code",
   "execution_count": null,
   "metadata": {
    "id": "zisd1ML2B5aY"
   },
   "outputs": [],
   "source": [
    "plt.hist(df_feature[\"age_group\"], bins = 5)\n",
    "\n",
    "plt.xlabel(\"Hourse Power\")\n",
    "plt.ylabel(\"Count\")\n",
    "plt.title(\"Total Horsepower Bins\")"
   ]
  },
  {
   "cell_type": "code",
   "execution_count": null,
   "metadata": {
    "id": "wVJ53F75B5aa"
   },
   "outputs": [],
   "source": [
    "fig,axs = plt.subplots(figsize=(10,5))\n",
    "sns.lineplot(data=df_feature,x='hhs_geo_region',y='income_qua',hue='h1n1_vaccine',ax=axs)"
   ]
  },
  {
   "cell_type": "code",
   "execution_count": 11,
   "metadata": {
    "execution": {
     "iopub.execute_input": "2023-04-01T14:22:03.226972Z",
     "iopub.status.busy": "2023-04-01T14:22:03.226524Z",
     "iopub.status.idle": "2023-04-01T14:22:03.235495Z",
     "shell.execute_reply": "2023-04-01T14:22:03.234373Z",
     "shell.execute_reply.started": "2023-04-01T14:22:03.226934Z"
    },
    "executionInfo": {
     "elapsed": 688,
     "status": "ok",
     "timestamp": 1680520045308,
     "user": {
      "displayName": "Yiming Lin",
      "userId": "14561580860602707809"
     },
     "user_tz": -60
    },
    "id": "z2pFl-xEB5aa",
    "trusted": true
   },
   "outputs": [],
   "source": [
    "# df_feature.drop(columns=['age_group','education','race','sex','income_poverty','marital_status','rent_or_own','employment_status','employment_industry','employment_occupation','health_insurance','hhs_geo_region','census_msa'],axis=1,inplace=True)\n",
    "df_feature.drop(columns=['health_insurance','employment_industry','employment_occupation'],axis=1,inplace=True)"
   ]
  },
  {
   "cell_type": "code",
   "execution_count": null,
   "metadata": {
    "id": "UT1F3tQ2B5aa",
    "trusted": true
   },
   "outputs": [],
   "source": [
    "plt.figure(figsize=(25,15))\n",
    "sns.heatmap(df_feature.corr(),annot=True)\n",
    "plt.show()"
   ]
  },
  {
   "cell_type": "code",
   "execution_count": 12,
   "metadata": {
    "colab": {
     "base_uri": "https://localhost:8080/",
     "height": 487
    },
    "execution": {
     "iopub.execute_input": "2023-04-01T14:22:06.511003Z",
     "iopub.status.busy": "2023-04-01T14:22:06.510569Z",
     "iopub.status.idle": "2023-04-01T14:22:06.557677Z",
     "shell.execute_reply": "2023-04-01T14:22:06.556430Z",
     "shell.execute_reply.started": "2023-04-01T14:22:06.510965Z"
    },
    "executionInfo": {
     "elapsed": 220,
     "status": "ok",
     "timestamp": 1680520048647,
     "user": {
      "displayName": "Yiming Lin",
      "userId": "14561580860602707809"
     },
     "user_tz": -60
    },
    "id": "Kq2MG_QxB5aa",
    "outputId": "94afdb6a-493b-419c-f6c8-febc6a5d844d",
    "trusted": true
   },
   "outputs": [
    {
     "data": {
      "text/html": [
       "<div>\n",
       "<style scoped>\n",
       "    .dataframe tbody tr th:only-of-type {\n",
       "        vertical-align: middle;\n",
       "    }\n",
       "\n",
       "    .dataframe tbody tr th {\n",
       "        vertical-align: top;\n",
       "    }\n",
       "\n",
       "    .dataframe thead th {\n",
       "        text-align: right;\n",
       "    }\n",
       "</style>\n",
       "<table border=\"1\" class=\"dataframe\">\n",
       "  <thead>\n",
       "    <tr style=\"text-align: right;\">\n",
       "      <th></th>\n",
       "      <th>h1n1_concern</th>\n",
       "      <th>h1n1_knowledge</th>\n",
       "      <th>behavioral_antiviral_meds</th>\n",
       "      <th>behavioral_avoidance</th>\n",
       "      <th>behavioral_face_mask</th>\n",
       "      <th>behavioral_wash_hands</th>\n",
       "      <th>behavioral_large_gatherings</th>\n",
       "      <th>behavioral_outside_home</th>\n",
       "      <th>behavioral_touch_face</th>\n",
       "      <th>doctor_recc_h1n1</th>\n",
       "      <th>...</th>\n",
       "      <th>race</th>\n",
       "      <th>sex</th>\n",
       "      <th>income_poverty</th>\n",
       "      <th>marital_status</th>\n",
       "      <th>rent_or_own</th>\n",
       "      <th>employment_status</th>\n",
       "      <th>hhs_geo_region</th>\n",
       "      <th>census_msa</th>\n",
       "      <th>household_adults</th>\n",
       "      <th>household_children</th>\n",
       "    </tr>\n",
       "  </thead>\n",
       "  <tbody>\n",
       "    <tr>\n",
       "      <th>42</th>\n",
       "      <td>1</td>\n",
       "      <td>1</td>\n",
       "      <td>0.0</td>\n",
       "      <td>NaN</td>\n",
       "      <td>0.0</td>\n",
       "      <td>0.0</td>\n",
       "      <td>0.0</td>\n",
       "      <td>0.0</td>\n",
       "      <td>0.0</td>\n",
       "      <td>1</td>\n",
       "      <td>...</td>\n",
       "      <td>4</td>\n",
       "      <td>2</td>\n",
       "      <td>1</td>\n",
       "      <td>1</td>\n",
       "      <td>1</td>\n",
       "      <td>1</td>\n",
       "      <td>9</td>\n",
       "      <td>3</td>\n",
       "      <td>1.0</td>\n",
       "      <td>0.0</td>\n",
       "    </tr>\n",
       "    <tr>\n",
       "      <th>64</th>\n",
       "      <td>2</td>\n",
       "      <td>1</td>\n",
       "      <td>0.0</td>\n",
       "      <td>0.0</td>\n",
       "      <td>0.0</td>\n",
       "      <td>NaN</td>\n",
       "      <td>0.0</td>\n",
       "      <td>0.0</td>\n",
       "      <td>0.0</td>\n",
       "      <td>1</td>\n",
       "      <td>...</td>\n",
       "      <td>3</td>\n",
       "      <td>1</td>\n",
       "      <td>4</td>\n",
       "      <td>3</td>\n",
       "      <td>3</td>\n",
       "      <td>4</td>\n",
       "      <td>5</td>\n",
       "      <td>3</td>\n",
       "      <td>1.0</td>\n",
       "      <td>2.0</td>\n",
       "    </tr>\n",
       "    <tr>\n",
       "      <th>76</th>\n",
       "      <td>3</td>\n",
       "      <td>2</td>\n",
       "      <td>0.0</td>\n",
       "      <td>NaN</td>\n",
       "      <td>0.0</td>\n",
       "      <td>0.0</td>\n",
       "      <td>0.0</td>\n",
       "      <td>0.0</td>\n",
       "      <td>0.0</td>\n",
       "      <td>3</td>\n",
       "      <td>...</td>\n",
       "      <td>4</td>\n",
       "      <td>2</td>\n",
       "      <td>2</td>\n",
       "      <td>2</td>\n",
       "      <td>1</td>\n",
       "      <td>1</td>\n",
       "      <td>4</td>\n",
       "      <td>2</td>\n",
       "      <td>1.0</td>\n",
       "      <td>0.0</td>\n",
       "    </tr>\n",
       "    <tr>\n",
       "      <th>96</th>\n",
       "      <td>5</td>\n",
       "      <td>2</td>\n",
       "      <td>0.0</td>\n",
       "      <td>1.0</td>\n",
       "      <td>0.0</td>\n",
       "      <td>1.0</td>\n",
       "      <td>0.0</td>\n",
       "      <td>NaN</td>\n",
       "      <td>0.0</td>\n",
       "      <td>2</td>\n",
       "      <td>...</td>\n",
       "      <td>4</td>\n",
       "      <td>1</td>\n",
       "      <td>1</td>\n",
       "      <td>2</td>\n",
       "      <td>1</td>\n",
       "      <td>2</td>\n",
       "      <td>7</td>\n",
       "      <td>3</td>\n",
       "      <td>0.0</td>\n",
       "      <td>0.0</td>\n",
       "    </tr>\n",
       "    <tr>\n",
       "      <th>105</th>\n",
       "      <td>2</td>\n",
       "      <td>2</td>\n",
       "      <td>0.0</td>\n",
       "      <td>0.0</td>\n",
       "      <td>0.0</td>\n",
       "      <td>1.0</td>\n",
       "      <td>0.0</td>\n",
       "      <td>0.0</td>\n",
       "      <td>1.0</td>\n",
       "      <td>1</td>\n",
       "      <td>...</td>\n",
       "      <td>4</td>\n",
       "      <td>1</td>\n",
       "      <td>4</td>\n",
       "      <td>3</td>\n",
       "      <td>3</td>\n",
       "      <td>4</td>\n",
       "      <td>9</td>\n",
       "      <td>1</td>\n",
       "      <td>1.0</td>\n",
       "      <td>1.0</td>\n",
       "    </tr>\n",
       "    <tr>\n",
       "      <th>...</th>\n",
       "      <td>...</td>\n",
       "      <td>...</td>\n",
       "      <td>...</td>\n",
       "      <td>...</td>\n",
       "      <td>...</td>\n",
       "      <td>...</td>\n",
       "      <td>...</td>\n",
       "      <td>...</td>\n",
       "      <td>...</td>\n",
       "      <td>...</td>\n",
       "      <td>...</td>\n",
       "      <td>...</td>\n",
       "      <td>...</td>\n",
       "      <td>...</td>\n",
       "      <td>...</td>\n",
       "      <td>...</td>\n",
       "      <td>...</td>\n",
       "      <td>...</td>\n",
       "      <td>...</td>\n",
       "      <td>...</td>\n",
       "      <td>...</td>\n",
       "    </tr>\n",
       "    <tr>\n",
       "      <th>26613</th>\n",
       "      <td>1</td>\n",
       "      <td>3</td>\n",
       "      <td>0.0</td>\n",
       "      <td>NaN</td>\n",
       "      <td>0.0</td>\n",
       "      <td>1.0</td>\n",
       "      <td>0.0</td>\n",
       "      <td>0.0</td>\n",
       "      <td>0.0</td>\n",
       "      <td>1</td>\n",
       "      <td>...</td>\n",
       "      <td>1</td>\n",
       "      <td>2</td>\n",
       "      <td>3</td>\n",
       "      <td>2</td>\n",
       "      <td>2</td>\n",
       "      <td>2</td>\n",
       "      <td>4</td>\n",
       "      <td>2</td>\n",
       "      <td>0.0</td>\n",
       "      <td>0.0</td>\n",
       "    </tr>\n",
       "    <tr>\n",
       "      <th>26652</th>\n",
       "      <td>2</td>\n",
       "      <td>2</td>\n",
       "      <td>0.0</td>\n",
       "      <td>1.0</td>\n",
       "      <td>NaN</td>\n",
       "      <td>1.0</td>\n",
       "      <td>1.0</td>\n",
       "      <td>1.0</td>\n",
       "      <td>NaN</td>\n",
       "      <td>1</td>\n",
       "      <td>...</td>\n",
       "      <td>3</td>\n",
       "      <td>2</td>\n",
       "      <td>1</td>\n",
       "      <td>1</td>\n",
       "      <td>1</td>\n",
       "      <td>2</td>\n",
       "      <td>2</td>\n",
       "      <td>1</td>\n",
       "      <td>1.0</td>\n",
       "      <td>1.0</td>\n",
       "    </tr>\n",
       "    <tr>\n",
       "      <th>26672</th>\n",
       "      <td>3</td>\n",
       "      <td>2</td>\n",
       "      <td>0.0</td>\n",
       "      <td>1.0</td>\n",
       "      <td>0.0</td>\n",
       "      <td>1.0</td>\n",
       "      <td>1.0</td>\n",
       "      <td>1.0</td>\n",
       "      <td>1.0</td>\n",
       "      <td>1</td>\n",
       "      <td>...</td>\n",
       "      <td>1</td>\n",
       "      <td>1</td>\n",
       "      <td>4</td>\n",
       "      <td>3</td>\n",
       "      <td>3</td>\n",
       "      <td>4</td>\n",
       "      <td>4</td>\n",
       "      <td>2</td>\n",
       "      <td>NaN</td>\n",
       "      <td>NaN</td>\n",
       "    </tr>\n",
       "    <tr>\n",
       "      <th>26687</th>\n",
       "      <td>4</td>\n",
       "      <td>3</td>\n",
       "      <td>0.0</td>\n",
       "      <td>NaN</td>\n",
       "      <td>1.0</td>\n",
       "      <td>1.0</td>\n",
       "      <td>0.0</td>\n",
       "      <td>0.0</td>\n",
       "      <td>1.0</td>\n",
       "      <td>1</td>\n",
       "      <td>...</td>\n",
       "      <td>4</td>\n",
       "      <td>1</td>\n",
       "      <td>1</td>\n",
       "      <td>2</td>\n",
       "      <td>1</td>\n",
       "      <td>2</td>\n",
       "      <td>7</td>\n",
       "      <td>1</td>\n",
       "      <td>0.0</td>\n",
       "      <td>0.0</td>\n",
       "    </tr>\n",
       "    <tr>\n",
       "      <th>26705</th>\n",
       "      <td>2</td>\n",
       "      <td>2</td>\n",
       "      <td>0.0</td>\n",
       "      <td>0.0</td>\n",
       "      <td>0.0</td>\n",
       "      <td>0.0</td>\n",
       "      <td>0.0</td>\n",
       "      <td>0.0</td>\n",
       "      <td>NaN</td>\n",
       "      <td>1</td>\n",
       "      <td>...</td>\n",
       "      <td>2</td>\n",
       "      <td>1</td>\n",
       "      <td>1</td>\n",
       "      <td>1</td>\n",
       "      <td>2</td>\n",
       "      <td>1</td>\n",
       "      <td>6</td>\n",
       "      <td>3</td>\n",
       "      <td>1.0</td>\n",
       "      <td>0.0</td>\n",
       "    </tr>\n",
       "  </tbody>\n",
       "</table>\n",
       "<p>1374 rows × 32 columns</p>\n",
       "</div>"
      ],
      "text/plain": [
       "       h1n1_concern  h1n1_knowledge  behavioral_antiviral_meds  \\\n",
       "42                1               1                        0.0   \n",
       "64                2               1                        0.0   \n",
       "76                3               2                        0.0   \n",
       "96                5               2                        0.0   \n",
       "105               2               2                        0.0   \n",
       "...             ...             ...                        ...   \n",
       "26613             1               3                        0.0   \n",
       "26652             2               2                        0.0   \n",
       "26672             3               2                        0.0   \n",
       "26687             4               3                        0.0   \n",
       "26705             2               2                        0.0   \n",
       "\n",
       "       behavioral_avoidance  behavioral_face_mask  behavioral_wash_hands  \\\n",
       "42                      NaN                   0.0                    0.0   \n",
       "64                      0.0                   0.0                    NaN   \n",
       "76                      NaN                   0.0                    0.0   \n",
       "96                      1.0                   0.0                    1.0   \n",
       "105                     0.0                   0.0                    1.0   \n",
       "...                     ...                   ...                    ...   \n",
       "26613                   NaN                   0.0                    1.0   \n",
       "26652                   1.0                   NaN                    1.0   \n",
       "26672                   1.0                   0.0                    1.0   \n",
       "26687                   NaN                   1.0                    1.0   \n",
       "26705                   0.0                   0.0                    0.0   \n",
       "\n",
       "       behavioral_large_gatherings  behavioral_outside_home  \\\n",
       "42                             0.0                      0.0   \n",
       "64                             0.0                      0.0   \n",
       "76                             0.0                      0.0   \n",
       "96                             0.0                      NaN   \n",
       "105                            0.0                      0.0   \n",
       "...                            ...                      ...   \n",
       "26613                          0.0                      0.0   \n",
       "26652                          1.0                      1.0   \n",
       "26672                          1.0                      1.0   \n",
       "26687                          0.0                      0.0   \n",
       "26705                          0.0                      0.0   \n",
       "\n",
       "       behavioral_touch_face  doctor_recc_h1n1  ...  race  sex  \\\n",
       "42                       0.0                 1  ...     4    2   \n",
       "64                       0.0                 1  ...     3    1   \n",
       "76                       0.0                 3  ...     4    2   \n",
       "96                       0.0                 2  ...     4    1   \n",
       "105                      1.0                 1  ...     4    1   \n",
       "...                      ...               ...  ...   ...  ...   \n",
       "26613                    0.0                 1  ...     1    2   \n",
       "26652                    NaN                 1  ...     3    2   \n",
       "26672                    1.0                 1  ...     1    1   \n",
       "26687                    1.0                 1  ...     4    1   \n",
       "26705                    NaN                 1  ...     2    1   \n",
       "\n",
       "       income_poverty  marital_status  rent_or_own  employment_status  \\\n",
       "42                  1               1            1                  1   \n",
       "64                  4               3            3                  4   \n",
       "76                  2               2            1                  1   \n",
       "96                  1               2            1                  2   \n",
       "105                 4               3            3                  4   \n",
       "...               ...             ...          ...                ...   \n",
       "26613               3               2            2                  2   \n",
       "26652               1               1            1                  2   \n",
       "26672               4               3            3                  4   \n",
       "26687               1               2            1                  2   \n",
       "26705               1               1            2                  1   \n",
       "\n",
       "       hhs_geo_region  census_msa  household_adults  household_children  \n",
       "42                  9           3               1.0                 0.0  \n",
       "64                  5           3               1.0                 2.0  \n",
       "76                  4           2               1.0                 0.0  \n",
       "96                  7           3               0.0                 0.0  \n",
       "105                 9           1               1.0                 1.0  \n",
       "...               ...         ...               ...                 ...  \n",
       "26613               4           2               0.0                 0.0  \n",
       "26652               2           1               1.0                 1.0  \n",
       "26672               4           2               NaN                 NaN  \n",
       "26687               7           1               0.0                 0.0  \n",
       "26705               6           3               1.0                 0.0  \n",
       "\n",
       "[1374 rows x 32 columns]"
      ]
     },
     "execution_count": 12,
     "metadata": {},
     "output_type": "execute_result"
    }
   ],
   "source": [
    "df_feature = df_feature.dropna(thresh=4)\n",
    "df_feature[df_feature.isna().any(axis=1)]"
   ]
  },
  {
   "cell_type": "code",
   "execution_count": 13,
   "metadata": {
    "execution": {
     "iopub.execute_input": "2023-04-01T14:22:10.271242Z",
     "iopub.status.busy": "2023-04-01T14:22:10.270823Z",
     "iopub.status.idle": "2023-04-01T14:22:10.286109Z",
     "shell.execute_reply": "2023-04-01T14:22:10.284781Z",
     "shell.execute_reply.started": "2023-04-01T14:22:10.271204Z"
    },
    "executionInfo": {
     "elapsed": 3,
     "status": "ok",
     "timestamp": 1680520051894,
     "user": {
      "displayName": "Yiming Lin",
      "userId": "14561580860602707809"
     },
     "user_tz": -60
    },
    "id": "4X9R3DKWB5ab",
    "trusted": true
   },
   "outputs": [],
   "source": [
    "train_data = df_feature.dropna()"
   ]
  },
  {
   "cell_type": "markdown",
   "metadata": {
    "id": "vF_aI2FFypL0"
   },
   "source": [
    "## Correlation"
   ]
  },
  {
   "cell_type": "code",
   "execution_count": 49,
   "metadata": {
    "id": "YPu9iYGFR9Ms",
    "outputId": "fc9ecb84-8688-48c4-d298-084d036612fa",
    "trusted": true
   },
   "outputs": [
    {
     "data": {
      "image/png": "[encoded data removed]",
      "text/plain": [
       "<Figure size 1500x500 with 1 Axes>"
      ]
     },
     "metadata": {},
     "output_type": "display_data"
    },
    {
     "name": "stdout",
     "output_type": "stream",
     "text": [
      "['1:h1n1_concern', '2:h1n1_knowledge', '3:behavioral_antiviral_meds', '4:behavioral_avoidance', '5:behavioral_face_mask', '6:behavioral_wash_hands', '7:behavioral_large_gatherings', '8:behavioral_outside_home', '9:behavioral_touch_face', '10:doctor_recc_h1n1', '11:doctor_recc_seasonal', '12:chronic_med_condition', '13:child_under_6_months', '14:health_worker', '15:opinion_h1n1_vacc_effective', '16:opinion_h1n1_risk', '17:opinion_h1n1_sick_from_vacc', '18:opinion_seas_vacc_effective', '19:opinion_seas_risk', '20:opinion_seas_sick_from_vacc', '21:age_group', '22:education', '23:race', '24:sex', '25:income_poverty', '26:marital_status', '27:rent_or_own', '28:employment_status', '29:hhs_geo_region', '30:census_msa', '31:household_adults', '32:household_children']\n"
     ]
    }
   ],
   "source": [
    "from scipy import stats\n",
    "pNUm = []\n",
    "sNum = []\n",
    "pX = []\n",
    "i=1\n",
    "for column in train_data.drop(columns=['h1n1_vaccine','seasonal_vaccine'],axis=1,inplace=False).columns.values:\n",
    "    pearson_coef,p_value = stats.pearsonr(train_data[column],train_data['h1n1_vaccine'])\n",
    "    pearson_coef2,p_value2 = stats.pearsonr(train_data[column],train_data['seasonal_vaccine'])\n",
    "    pNUm.append(pearson_coef)\n",
    "    sNum.append(pearson_coef2)\n",
    "    pX.append(str(i)+':'+column)\n",
    "    i += 1\n",
    "plt.figure(figsize=[15,5])\n",
    "plt.plot(range(1,33,1),pNUm)\n",
    "plt.plot(range(1,33,1),sNum)\n",
    "plt.legend(['h1n1_vaccine','seasonal_vaccine'],loc = 'upper right')\n",
    "plt.xticks(range(1,33,1))\n",
    "plt.show()\n",
    "print(pX)"
   ]
  },
  {
   "cell_type": "code",
   "execution_count": 22,
   "metadata": {
    "id": "5BT2m113ypL2",
    "outputId": "6d2df4ab-82e1-470a-84a2-229c21fcadd2"
   },
   "outputs": [
    {
     "data": {
      "text/plain": [
       "h1n1_concern                   0.131833\n",
       "h1n1_knowledge                 0.120890\n",
       "behavioral_antiviral_meds      0.037908\n",
       "behavioral_avoidance           0.048984\n",
       "behavioral_face_mask           0.071011\n",
       "behavioral_wash_hands          0.074934\n",
       "behavioral_large_gatherings    0.017475\n",
       "behavioral_outside_home        0.018830\n",
       "behavioral_touch_face          0.071834\n",
       "doctor_recc_h1n1               0.393544\n",
       "doctor_recc_seasonal           0.208674\n",
       "chronic_med_condition          0.099398\n",
       "child_under_6_months           0.068338\n",
       "health_worker                  0.177413\n",
       "opinion_h1n1_vacc_effective    0.269974\n",
       "opinion_h1n1_risk              0.340110\n",
       "opinion_h1n1_sick_from_vacc    0.080956\n",
       "opinion_seas_vacc_effective    0.183534\n",
       "opinion_seas_risk              0.268564\n",
       "opinion_seas_sick_from_vacc    0.007941\n",
       "age_group                      0.045094\n",
       "education                      0.039936\n",
       "race                           0.047079\n",
       "sex                           -0.023736\n",
       "income_poverty                 0.025397\n",
       "marital_status                -0.045967\n",
       "rent_or_own                   -0.026397\n",
       "employment_status             -0.011673\n",
       "hhs_geo_region                -0.001228\n",
       "census_msa                     0.000583\n",
       "household_adults               0.005096\n",
       "household_children            -0.005949\n",
       "h1n1_vaccine                   1.000000\n",
       "seasonal_vaccine               0.382575\n",
       "Name: h1n1_vaccine, dtype: float64"
      ]
     },
     "execution_count": 22,
     "metadata": {},
     "output_type": "execute_result"
    }
   ],
   "source": [
    "train_data.corr()['h1n1_vaccine']"
   ]
  },
  {
   "cell_type": "markdown",
   "metadata": {
    "id": "0j0YQyM1ypL3"
   },
   "source": [
    "pearson coefficient high  -> doctor_recc_h1n1   opinion_h1n1_risk     opinion_seas_risk"
   ]
  },
  {
   "cell_type": "markdown",
   "metadata": {
    "id": "vHW8cCa5ypL3"
   },
   "source": [
    "## Imputation"
   ]
  },
  {
   "cell_type": "code",
   "execution_count": 14,
   "metadata": {
    "colab": {
     "base_uri": "https://localhost:8080/",
     "height": 74
    },
    "execution": {
     "iopub.execute_input": "2023-04-01T14:22:22.312173Z",
     "iopub.status.busy": "2023-04-01T14:22:22.311725Z",
     "iopub.status.idle": "2023-04-01T14:22:25.270998Z",
     "shell.execute_reply": "2023-04-01T14:22:25.269626Z",
     "shell.execute_reply.started": "2023-04-01T14:22:22.312132Z"
    },
    "executionInfo": {
     "elapsed": 4474,
     "status": "ok",
     "timestamp": 1680520090983,
     "user": {
      "displayName": "Yiming Lin",
      "userId": "14561580860602707809"
     },
     "user_tz": -60
    },
    "id": "FNYQtIK2B5ab",
    "outputId": "f3c37990-e965-456b-be23-86f7acdd4ea5",
    "trusted": true
   },
   "outputs": [
    {
     "data": {
      "text/html": [
       "<style>#sk-container-id-1 {color: black;background-color: white;}#sk-container-id-1 pre{padding: 0;}#sk-container-id-1 div.sk-toggleable {background-color: white;}#sk-container-id-1 label.sk-toggleable__label {cursor: pointer;display: block;width: 100%;margin-bottom: 0;padding: 0.3em;box-sizing: border-box;text-align: center;}#sk-container-id-1 label.sk-toggleable__label-arrow:before {content: \"▸\";float: left;margin-right: 0.25em;color: #696969;}#sk-container-id-1 label.sk-toggleable__label-arrow:hover:before {color: black;}#sk-container-id-1 div.sk-estimator:hover label.sk-toggleable__label-arrow:before {color: black;}#sk-container-id-1 div.sk-toggleable__content {max-height: 0;max-width: 0;overflow: hidden;text-align: left;background-color: #f0f8ff;}#sk-container-id-1 div.sk-toggleable__content pre {margin: 0.2em;color: black;border-radius: 0.25em;background-color: #f0f8ff;}#sk-container-id-1 input.sk-toggleable__control:checked~div.sk-toggleable__content {max-height: 200px;max-width: 100%;overflow: auto;}#sk-container-id-1 input.sk-toggleable__control:checked~label.sk-toggleable__label-arrow:before {content: \"▾\";}#sk-container-id-1 div.sk-estimator input.sk-toggleable__control:checked~label.sk-toggleable__label {background-color: #d4ebff;}#sk-container-id-1 div.sk-label input.sk-toggleable__control:checked~label.sk-toggleable__label {background-color: #d4ebff;}#sk-container-id-1 input.sk-hidden--visually {border: 0;clip: rect(1px 1px 1px 1px);clip: rect(1px, 1px, 1px, 1px);height: 1px;margin: -1px;overflow: hidden;padding: 0;position: absolute;width: 1px;}#sk-container-id-1 div.sk-estimator {font-family: monospace;background-color: #f0f8ff;border: 1px dotted black;border-radius: 0.25em;box-sizing: border-box;margin-bottom: 0.5em;}#sk-container-id-1 div.sk-estimator:hover {background-color: #d4ebff;}#sk-container-id-1 div.sk-parallel-item::after {content: \"\";width: 100%;border-bottom: 1px solid gray;flex-grow: 1;}#sk-container-id-1 div.sk-label:hover label.sk-toggleable__label {background-color: #d4ebff;}#sk-container-id-1 div.sk-serial::before {content: \"\";position: absolute;border-left: 1px solid gray;box-sizing: border-box;top: 0;bottom: 0;left: 50%;z-index: 0;}#sk-container-id-1 div.sk-serial {display: flex;flex-direction: column;align-items: center;background-color: white;padding-right: 0.2em;padding-left: 0.2em;position: relative;}#sk-container-id-1 div.sk-item {position: relative;z-index: 1;}#sk-container-id-1 div.sk-parallel {display: flex;align-items: stretch;justify-content: center;background-color: white;position: relative;}#sk-container-id-1 div.sk-item::before, #sk-container-id-1 div.sk-parallel-item::before {content: \"\";position: absolute;border-left: 1px solid gray;box-sizing: border-box;top: 0;bottom: 0;left: 50%;z-index: -1;}#sk-container-id-1 div.sk-parallel-item {display: flex;flex-direction: column;z-index: 1;position: relative;background-color: white;}#sk-container-id-1 div.sk-parallel-item:first-child::after {align-self: flex-end;width: 50%;}#sk-container-id-1 div.sk-parallel-item:last-child::after {align-self: flex-start;width: 50%;}#sk-container-id-1 div.sk-parallel-item:only-child::after {width: 0;}#sk-container-id-1 div.sk-dashed-wrapped {border: 1px dashed gray;margin: 0 0.4em 0.5em 0.4em;box-sizing: border-box;padding-bottom: 0.4em;background-color: white;}#sk-container-id-1 div.sk-label label {font-family: monospace;font-weight: bold;display: inline-block;line-height: 1.2em;}#sk-container-id-1 div.sk-label-container {text-align: center;}#sk-container-id-1 div.sk-container {/* jupyter's `normalize.less` sets `[hidden] { display: none; }` but bootstrap.min.css set `[hidden] { display: none !important; }` so we also need the `!important` here to be able to override the default hidden behavior on the sphinx rendered scikit-learn.org. See: https://github.com/scikit-learn/scikit-learn/issues/21755 */display: inline-block !important;position: relative;}#sk-container-id-1 div.sk-text-repr-fallback {display: none;}</style><div id=\"sk-container-id-1\" class=\"sk-top-container\"><div class=\"sk-text-repr-fallback\"><pre>IterativeImputer(initial_strategy=&#x27;most_frequent&#x27;, random_state=0)</pre><b>In a Jupyter environment, please rerun this cell to show the HTML representation or trust the notebook. <br />On GitHub, the HTML representation is unable to render, please try loading this page with nbviewer.org.</b></div><div class=\"sk-container\" hidden><div class=\"sk-item\"><div class=\"sk-estimator sk-toggleable\"><input class=\"sk-toggleable__control sk-hidden--visually\" id=\"sk-estimator-id-1\" type=\"checkbox\" checked><label for=\"sk-estimator-id-1\" class=\"sk-toggleable__label sk-toggleable__label-arrow\">IterativeImputer</label><div class=\"sk-toggleable__content\"><pre>IterativeImputer(initial_strategy=&#x27;most_frequent&#x27;, random_state=0)</pre></div></div></div></div></div>"
      ],
      "text/plain": [
       "IterativeImputer(initial_strategy='most_frequent', random_state=0)"
      ]
     },
     "execution_count": 14,
     "metadata": {},
     "output_type": "execute_result"
    }
   ],
   "source": [
    "imp = IterativeImputer(random_state=0,initial_strategy=\"most_frequent\")\n",
    "imp.fit(train_data)"
   ]
  },
  {
   "cell_type": "code",
   "execution_count": 15,
   "metadata": {
    "execution": {
     "iopub.execute_input": "2023-04-01T14:22:25.278429Z",
     "iopub.status.busy": "2023-04-01T14:22:25.275695Z",
     "iopub.status.idle": "2023-04-01T14:22:25.423088Z",
     "shell.execute_reply": "2023-04-01T14:22:25.421295Z",
     "shell.execute_reply.started": "2023-04-01T14:22:25.278064Z"
    },
    "executionInfo": {
     "elapsed": 249,
     "status": "ok",
     "timestamp": 1680520093405,
     "user": {
      "displayName": "Yiming Lin",
      "userId": "14561580860602707809"
     },
     "user_tz": -60
    },
    "id": "ZXzVcpG0B5ab",
    "trusted": true
   },
   "outputs": [],
   "source": [
    "data = imp.transform(df_feature).round().astype(int)"
   ]
  },
  {
   "cell_type": "markdown",
   "metadata": {
    "id": "baYrw_frB5ac"
   },
   "source": [
    "## Feature Selection"
   ]
  },
  {
   "cell_type": "code",
   "execution_count": null,
   "metadata": {
    "execution": {
     "iopub.execute_input": "2023-04-01T14:22:37.456748Z",
     "iopub.status.busy": "2023-04-01T14:22:37.456348Z",
     "iopub.status.idle": "2023-04-01T14:22:37.465901Z",
     "shell.execute_reply": "2023-04-01T14:22:37.464166Z",
     "shell.execute_reply.started": "2023-04-01T14:22:37.456714Z"
    },
    "id": "EzE1qtZuDNSk",
    "trusted": true
   },
   "outputs": [],
   "source": [
    "X = np.delete(data,[32,33],axis=1)\n",
    "# y = df_label['h1n1_vaccine']\n",
    "y = df_vac"
   ]
  },
  {
   "cell_type": "markdown",
   "metadata": {
    "id": "v1BqF2AwypL5"
   },
   "source": [
    "### GradientBoost"
   ]
  },
  {
   "cell_type": "code",
   "execution_count": null,
   "metadata": {
    "execution": {
     "iopub.execute_input": "2023-04-01T14:25:05.689606Z",
     "iopub.status.busy": "2023-04-01T14:25:05.689198Z"
    },
    "id": "1paji2THC-CG",
    "trusted": true
   },
   "outputs": [],
   "source": [
    "RFC_ = RFC(n_estimators=100,random_state=0).fit(X,y)\n",
    "score = []\n",
    "for i in range(5,34,1):\n",
    "  x_wrapper = RFE(RFC_,n_features_to_select=i,step=1).fit_transform(X,y)\n",
    "  once = cross_val_score(GradientBoostingClassifier(),x_wrapper,y,cv=10,scoring='roc_auc').mean()\n",
    "  score.append(once)\n",
    "plt.figure(figsize=[20,5])\n",
    "plt.plot(range(5,34,1),score)\n",
    "plt.xticks(range(5,34,1))\n",
    "plt.show()"
   ]
  },
  {
   "cell_type": "markdown",
   "metadata": {
    "id": "mp2DvCVEypL6"
   },
   "source": [
    "### CatBoost"
   ]
  },
  {
   "cell_type": "code",
   "execution_count": null,
   "metadata": {
    "colab": {
     "base_uri": "https://localhost:8080/",
     "height": 1000
    },
    "execution": {
     "iopub.execute_input": "2023-04-01T14:22:54.551169Z",
     "iopub.status.busy": "2023-04-01T14:22:54.550730Z",
     "iopub.status.idle": "2023-04-01T14:24:58.714280Z",
     "shell.execute_reply": "2023-04-01T14:24:58.712535Z",
     "shell.execute_reply.started": "2023-04-01T14:22:54.551132Z"
    },
    "executionInfo": {
     "elapsed": 784098,
     "status": "ok",
     "timestamp": 1680361301725,
     "user": {
      "displayName": "Yiming Lin",
      "userId": "14561580860602707809"
     },
     "user_tz": -60
    },
    "id": "WFnzlnD4R9Mv",
    "outputId": "ee4ed2fc-2689-4b30-f39e-df26f2cb410f",
    "trusted": true
   },
   "outputs": [],
   "source": [
    "RFC_ = RFC(n_estimators=100,random_state=0).fit(X,y)\n",
    "score = []\n",
    "for i in range(5,32,1):\n",
    "  x_wrapper = RFE(RFC_,n_features_to_select=i,step=3).fit_transform(X,y)\n",
    "  once = cross_val_score(CatBoostClassifier(),x_wrapper,y,cv=10,scoring='roc_auc').mean()\n",
    "  score.append(once)\n",
    "plt.figure(figsize=[20,5])\n",
    "plt.plot(range(5,32,1),score)\n",
    "plt.xticks(range(5,32,1))\n",
    "plt.show()"
   ]
  },
  {
   "cell_type": "code",
   "execution_count": null,
   "metadata": {
    "colab": {
     "base_uri": "https://localhost:8080/"
    },
    "executionInfo": {
     "elapsed": 245381,
     "status": "ok",
     "timestamp": 1680364792974,
     "user": {
      "displayName": "Yiming Lin",
      "userId": "14561580860602707809"
     },
     "user_tz": -60
    },
    "id": "oeGdF3oseXGB",
    "outputId": "5c57d32f-79f8-46c0-b333-63685495aeb5"
   },
   "outputs": [],
   "source": [
    "selector = RFE(CatBoostClassifier(),verbose=2).fit(X,y)"
   ]
  },
  {
   "cell_type": "code",
   "execution_count": null,
   "metadata": {
    "colab": {
     "base_uri": "https://localhost:8080/"
    },
    "executionInfo": {
     "elapsed": 257,
     "status": "ok",
     "timestamp": 1680364820336,
     "user": {
      "displayName": "Yiming Lin",
      "userId": "14561580860602707809"
     },
     "user_tz": -60
    },
    "id": "jL0z9bzSgLEh",
    "outputId": "bf2ec513-6edc-41b4-b383-d3377adcec3e"
   },
   "outputs": [
    {
     "data": {
      "text/plain": [
       "array([ 1,  1, 17, 15, 14, 16,  9, 12, 13,  1,  5, 10, 11,  4,  1,  1,  1,\n",
       "        1,  1,  1,  1,  1,  1,  7,  1,  8,  6,  1,  1,  2,  1,  3])"
      ]
     },
     "execution_count": 19,
     "metadata": {},
     "output_type": "execute_result"
    }
   ],
   "source": [
    "selector.ranking_"
   ]
  },
  {
   "cell_type": "markdown",
   "metadata": {
    "id": "D2Gv78L-ypL8"
   },
   "source": [
    "h1n1_vaccine: \n",
    "h1n1_concern 1\th1n1_knowledge 1 doctor_recc_h1n1 1 opinion_h1n1_vacc_effective 1\topinion_h1n1_risk 1\topinion_h1n1_sick_from_vacc 1\topinion_seas_vacc_effective 1\topinion_seas_risk 1\topinion_seas_sick_from_vacc 1 age_group 1\teducation 1\trace 1 income_poverty 1 employment_status 1\thhs_geo_region 1 household_adults 1\tcensus_msa 2 household_children\t3 health_worker 4 doctor_recc_seasonal 5 rent_or_own 6 sex 7 marital_status 8 behavioral_large_gatherings 9 chronic_med_condition 10\tchild_under_6_months 11 behavioral_outside_home 12\tbehavioral_touch_face 13 behavioral_face_mask 14 behavioral_avoidance 15 behavioral_wash_hands  16\tbehavioral_antiviral_meds 17\t\t\t \t\t\t\t\t\t\t\t\t\t\t\t\t\n"
   ]
  },
  {
   "cell_type": "code",
   "execution_count": null,
   "metadata": {
    "id": "wOqr9IIpypL9"
   },
   "outputs": [],
   "source": [
    "pd.set_option('display.max_columns',None)"
   ]
  },
  {
   "cell_type": "code",
   "execution_count": 92,
   "metadata": {
    "id": "5BR50cNlypL9",
    "outputId": "4cbb7ece-92d2-4193-c486-3ce020d4874f"
   },
   "outputs": [
    {
     "data": {
      "text/html": [
       "<div>\n",
       "<style scoped>\n",
       "    .dataframe tbody tr th:only-of-type {\n",
       "        vertical-align: middle;\n",
       "    }\n",
       "\n",
       "    .dataframe tbody tr th {\n",
       "        vertical-align: top;\n",
       "    }\n",
       "\n",
       "    .dataframe thead th {\n",
       "        text-align: right;\n",
       "    }\n",
       "</style>\n",
       "<table border=\"1\" class=\"dataframe\">\n",
       "  <thead>\n",
       "    <tr style=\"text-align: right;\">\n",
       "      <th></th>\n",
       "      <th>h1n1_concern</th>\n",
       "      <th>h1n1_knowledge</th>\n",
       "      <th>behavioral_antiviral_meds</th>\n",
       "      <th>behavioral_avoidance</th>\n",
       "      <th>behavioral_face_mask</th>\n",
       "      <th>behavioral_wash_hands</th>\n",
       "      <th>behavioral_large_gatherings</th>\n",
       "      <th>behavioral_outside_home</th>\n",
       "      <th>behavioral_touch_face</th>\n",
       "      <th>doctor_recc_h1n1</th>\n",
       "      <th>...</th>\n",
       "      <th>race</th>\n",
       "      <th>sex</th>\n",
       "      <th>income_poverty</th>\n",
       "      <th>marital_status</th>\n",
       "      <th>rent_or_own</th>\n",
       "      <th>employment_status</th>\n",
       "      <th>hhs_geo_region</th>\n",
       "      <th>census_msa</th>\n",
       "      <th>household_adults</th>\n",
       "      <th>household_children</th>\n",
       "    </tr>\n",
       "  </thead>\n",
       "  <tbody>\n",
       "    <tr>\n",
       "      <th>0</th>\n",
       "      <td>2</td>\n",
       "      <td>1</td>\n",
       "      <td>0.0</td>\n",
       "      <td>0.0</td>\n",
       "      <td>0.0</td>\n",
       "      <td>0.0</td>\n",
       "      <td>0.0</td>\n",
       "      <td>1.0</td>\n",
       "      <td>1.0</td>\n",
       "      <td>1</td>\n",
       "      <td>...</td>\n",
       "      <td>4</td>\n",
       "      <td>1</td>\n",
       "      <td>3</td>\n",
       "      <td>2</td>\n",
       "      <td>1</td>\n",
       "      <td>2</td>\n",
       "      <td>9</td>\n",
       "      <td>3</td>\n",
       "      <td>0.0</td>\n",
       "      <td>0.0</td>\n",
       "    </tr>\n",
       "    <tr>\n",
       "      <th>1</th>\n",
       "      <td>4</td>\n",
       "      <td>3</td>\n",
       "      <td>0.0</td>\n",
       "      <td>1.0</td>\n",
       "      <td>0.0</td>\n",
       "      <td>1.0</td>\n",
       "      <td>0.0</td>\n",
       "      <td>1.0</td>\n",
       "      <td>1.0</td>\n",
       "      <td>1</td>\n",
       "      <td>...</td>\n",
       "      <td>4</td>\n",
       "      <td>2</td>\n",
       "      <td>3</td>\n",
       "      <td>2</td>\n",
       "      <td>2</td>\n",
       "      <td>1</td>\n",
       "      <td>2</td>\n",
       "      <td>1</td>\n",
       "      <td>0.0</td>\n",
       "      <td>0.0</td>\n",
       "    </tr>\n",
       "    <tr>\n",
       "      <th>2</th>\n",
       "      <td>2</td>\n",
       "      <td>2</td>\n",
       "      <td>0.0</td>\n",
       "      <td>1.0</td>\n",
       "      <td>0.0</td>\n",
       "      <td>0.0</td>\n",
       "      <td>0.0</td>\n",
       "      <td>0.0</td>\n",
       "      <td>0.0</td>\n",
       "      <td>0</td>\n",
       "      <td>...</td>\n",
       "      <td>4</td>\n",
       "      <td>2</td>\n",
       "      <td>1</td>\n",
       "      <td>2</td>\n",
       "      <td>1</td>\n",
       "      <td>1</td>\n",
       "      <td>10</td>\n",
       "      <td>1</td>\n",
       "      <td>2.0</td>\n",
       "      <td>0.0</td>\n",
       "    </tr>\n",
       "    <tr>\n",
       "      <th>3</th>\n",
       "      <td>2</td>\n",
       "      <td>2</td>\n",
       "      <td>0.0</td>\n",
       "      <td>1.0</td>\n",
       "      <td>0.0</td>\n",
       "      <td>1.0</td>\n",
       "      <td>1.0</td>\n",
       "      <td>0.0</td>\n",
       "      <td>0.0</td>\n",
       "      <td>1</td>\n",
       "      <td>...</td>\n",
       "      <td>4</td>\n",
       "      <td>1</td>\n",
       "      <td>3</td>\n",
       "      <td>2</td>\n",
       "      <td>2</td>\n",
       "      <td>2</td>\n",
       "      <td>6</td>\n",
       "      <td>2</td>\n",
       "      <td>0.0</td>\n",
       "      <td>0.0</td>\n",
       "    </tr>\n",
       "    <tr>\n",
       "      <th>4</th>\n",
       "      <td>3</td>\n",
       "      <td>2</td>\n",
       "      <td>0.0</td>\n",
       "      <td>1.0</td>\n",
       "      <td>0.0</td>\n",
       "      <td>1.0</td>\n",
       "      <td>1.0</td>\n",
       "      <td>0.0</td>\n",
       "      <td>1.0</td>\n",
       "      <td>1</td>\n",
       "      <td>...</td>\n",
       "      <td>4</td>\n",
       "      <td>1</td>\n",
       "      <td>1</td>\n",
       "      <td>1</td>\n",
       "      <td>1</td>\n",
       "      <td>1</td>\n",
       "      <td>10</td>\n",
       "      <td>1</td>\n",
       "      <td>1.0</td>\n",
       "      <td>0.0</td>\n",
       "    </tr>\n",
       "    <tr>\n",
       "      <th>...</th>\n",
       "      <td>...</td>\n",
       "      <td>...</td>\n",
       "      <td>...</td>\n",
       "      <td>...</td>\n",
       "      <td>...</td>\n",
       "      <td>...</td>\n",
       "      <td>...</td>\n",
       "      <td>...</td>\n",
       "      <td>...</td>\n",
       "      <td>...</td>\n",
       "      <td>...</td>\n",
       "      <td>...</td>\n",
       "      <td>...</td>\n",
       "      <td>...</td>\n",
       "      <td>...</td>\n",
       "      <td>...</td>\n",
       "      <td>...</td>\n",
       "      <td>...</td>\n",
       "      <td>...</td>\n",
       "      <td>...</td>\n",
       "      <td>...</td>\n",
       "    </tr>\n",
       "    <tr>\n",
       "      <th>26702</th>\n",
       "      <td>3</td>\n",
       "      <td>1</td>\n",
       "      <td>0.0</td>\n",
       "      <td>1.0</td>\n",
       "      <td>0.0</td>\n",
       "      <td>0.0</td>\n",
       "      <td>0.0</td>\n",
       "      <td>1.0</td>\n",
       "      <td>0.0</td>\n",
       "      <td>1</td>\n",
       "      <td>...</td>\n",
       "      <td>4</td>\n",
       "      <td>1</td>\n",
       "      <td>1</td>\n",
       "      <td>2</td>\n",
       "      <td>1</td>\n",
       "      <td>2</td>\n",
       "      <td>10</td>\n",
       "      <td>3</td>\n",
       "      <td>0.0</td>\n",
       "      <td>0.0</td>\n",
       "    </tr>\n",
       "    <tr>\n",
       "      <th>26703</th>\n",
       "      <td>2</td>\n",
       "      <td>3</td>\n",
       "      <td>0.0</td>\n",
       "      <td>1.0</td>\n",
       "      <td>0.0</td>\n",
       "      <td>1.0</td>\n",
       "      <td>0.0</td>\n",
       "      <td>0.0</td>\n",
       "      <td>0.0</td>\n",
       "      <td>2</td>\n",
       "      <td>...</td>\n",
       "      <td>4</td>\n",
       "      <td>2</td>\n",
       "      <td>1</td>\n",
       "      <td>2</td>\n",
       "      <td>2</td>\n",
       "      <td>1</td>\n",
       "      <td>7</td>\n",
       "      <td>2</td>\n",
       "      <td>1.0</td>\n",
       "      <td>0.0</td>\n",
       "    </tr>\n",
       "    <tr>\n",
       "      <th>26704</th>\n",
       "      <td>3</td>\n",
       "      <td>3</td>\n",
       "      <td>0.0</td>\n",
       "      <td>1.0</td>\n",
       "      <td>1.0</td>\n",
       "      <td>1.0</td>\n",
       "      <td>1.0</td>\n",
       "      <td>0.0</td>\n",
       "      <td>1.0</td>\n",
       "      <td>1</td>\n",
       "      <td>...</td>\n",
       "      <td>4</td>\n",
       "      <td>1</td>\n",
       "      <td>0</td>\n",
       "      <td>2</td>\n",
       "      <td>1</td>\n",
       "      <td>0</td>\n",
       "      <td>7</td>\n",
       "      <td>1</td>\n",
       "      <td>0.0</td>\n",
       "      <td>0.0</td>\n",
       "    </tr>\n",
       "    <tr>\n",
       "      <th>26705</th>\n",
       "      <td>2</td>\n",
       "      <td>2</td>\n",
       "      <td>0.0</td>\n",
       "      <td>0.0</td>\n",
       "      <td>0.0</td>\n",
       "      <td>0.0</td>\n",
       "      <td>0.0</td>\n",
       "      <td>0.0</td>\n",
       "      <td>NaN</td>\n",
       "      <td>1</td>\n",
       "      <td>...</td>\n",
       "      <td>2</td>\n",
       "      <td>1</td>\n",
       "      <td>1</td>\n",
       "      <td>1</td>\n",
       "      <td>2</td>\n",
       "      <td>1</td>\n",
       "      <td>6</td>\n",
       "      <td>3</td>\n",
       "      <td>1.0</td>\n",
       "      <td>0.0</td>\n",
       "    </tr>\n",
       "    <tr>\n",
       "      <th>26706</th>\n",
       "      <td>1</td>\n",
       "      <td>1</td>\n",
       "      <td>0.0</td>\n",
       "      <td>1.0</td>\n",
       "      <td>0.0</td>\n",
       "      <td>0.0</td>\n",
       "      <td>0.0</td>\n",
       "      <td>0.0</td>\n",
       "      <td>0.0</td>\n",
       "      <td>1</td>\n",
       "      <td>...</td>\n",
       "      <td>4</td>\n",
       "      <td>2</td>\n",
       "      <td>1</td>\n",
       "      <td>1</td>\n",
       "      <td>1</td>\n",
       "      <td>2</td>\n",
       "      <td>8</td>\n",
       "      <td>2</td>\n",
       "      <td>1.0</td>\n",
       "      <td>0.0</td>\n",
       "    </tr>\n",
       "  </tbody>\n",
       "</table>\n",
       "<p>26707 rows × 32 columns</p>\n",
       "</div>"
      ],
      "text/plain": [
       "       h1n1_concern  h1n1_knowledge  behavioral_antiviral_meds  \\\n",
       "0                 2               1                        0.0   \n",
       "1                 4               3                        0.0   \n",
       "2                 2               2                        0.0   \n",
       "3                 2               2                        0.0   \n",
       "4                 3               2                        0.0   \n",
       "...             ...             ...                        ...   \n",
       "26702             3               1                        0.0   \n",
       "26703             2               3                        0.0   \n",
       "26704             3               3                        0.0   \n",
       "26705             2               2                        0.0   \n",
       "26706             1               1                        0.0   \n",
       "\n",
       "       behavioral_avoidance  behavioral_face_mask  behavioral_wash_hands  \\\n",
       "0                       0.0                   0.0                    0.0   \n",
       "1                       1.0                   0.0                    1.0   \n",
       "2                       1.0                   0.0                    0.0   \n",
       "3                       1.0                   0.0                    1.0   \n",
       "4                       1.0                   0.0                    1.0   \n",
       "...                     ...                   ...                    ...   \n",
       "26702                   1.0                   0.0                    0.0   \n",
       "26703                   1.0                   0.0                    1.0   \n",
       "26704                   1.0                   1.0                    1.0   \n",
       "26705                   0.0                   0.0                    0.0   \n",
       "26706                   1.0                   0.0                    0.0   \n",
       "\n",
       "       behavioral_large_gatherings  behavioral_outside_home  \\\n",
       "0                              0.0                      1.0   \n",
       "1                              0.0                      1.0   \n",
       "2                              0.0                      0.0   \n",
       "3                              1.0                      0.0   \n",
       "4                              1.0                      0.0   \n",
       "...                            ...                      ...   \n",
       "26702                          0.0                      1.0   \n",
       "26703                          0.0                      0.0   \n",
       "26704                          1.0                      0.0   \n",
       "26705                          0.0                      0.0   \n",
       "26706                          0.0                      0.0   \n",
       "\n",
       "       behavioral_touch_face  doctor_recc_h1n1  ...  race  sex  \\\n",
       "0                        1.0                 1  ...     4    1   \n",
       "1                        1.0                 1  ...     4    2   \n",
       "2                        0.0                 0  ...     4    2   \n",
       "3                        0.0                 1  ...     4    1   \n",
       "4                        1.0                 1  ...     4    1   \n",
       "...                      ...               ...  ...   ...  ...   \n",
       "26702                    0.0                 1  ...     4    1   \n",
       "26703                    0.0                 2  ...     4    2   \n",
       "26704                    1.0                 1  ...     4    1   \n",
       "26705                    NaN                 1  ...     2    1   \n",
       "26706                    0.0                 1  ...     4    2   \n",
       "\n",
       "       income_poverty  marital_status  rent_or_own  employment_status  \\\n",
       "0                   3               2            1                  2   \n",
       "1                   3               2            2                  1   \n",
       "2                   1               2            1                  1   \n",
       "3                   3               2            2                  2   \n",
       "4                   1               1            1                  1   \n",
       "...               ...             ...          ...                ...   \n",
       "26702               1               2            1                  2   \n",
       "26703               1               2            2                  1   \n",
       "26704               0               2            1                  0   \n",
       "26705               1               1            2                  1   \n",
       "26706               1               1            1                  2   \n",
       "\n",
       "       hhs_geo_region  census_msa  household_adults  household_children  \n",
       "0                   9           3               0.0                 0.0  \n",
       "1                   2           1               0.0                 0.0  \n",
       "2                  10           1               2.0                 0.0  \n",
       "3                   6           2               0.0                 0.0  \n",
       "4                  10           1               1.0                 0.0  \n",
       "...               ...         ...               ...                 ...  \n",
       "26702              10           3               0.0                 0.0  \n",
       "26703               7           2               1.0                 0.0  \n",
       "26704               7           1               0.0                 0.0  \n",
       "26705               6           3               1.0                 0.0  \n",
       "26706               8           2               1.0                 0.0  \n",
       "\n",
       "[26707 rows x 32 columns]"
      ]
     },
     "execution_count": 92,
     "metadata": {},
     "output_type": "execute_result"
    }
   ],
   "source": [
    "df_feature"
   ]
  },
  {
   "cell_type": "code",
   "execution_count": null,
   "metadata": {
    "id": "nYeQlBTtjGtK"
   },
   "outputs": [],
   "source": [
    "selector.get_feature_names_out(num_cols)"
   ]
  },
  {
   "cell_type": "code",
   "execution_count": 17,
   "metadata": {
    "executionInfo": {
     "elapsed": 545,
     "status": "ok",
     "timestamp": 1680520101553,
     "user": {
      "displayName": "Yiming Lin",
      "userId": "14561580860602707809"
     },
     "user_tz": -60
    },
    "id": "TLK_8QyoypL-"
   },
   "outputs": [],
   "source": [
    "X = [[row[0]]+[row[1]]+[row[i] for i in range(9,12)]+[row[i] for i in range(13,20)] for row in data]\n",
    "y = df_label['h1n1_vaccine']\n",
    "y_sea = df_label['seasonal_vaccine']\n",
    "y_total = df_label['h1n1_vaccine'] | df_label['seasonal_vaccine']"
   ]
  },
  {
   "cell_type": "code",
   "execution_count": 18,
   "metadata": {
    "executionInfo": {
     "elapsed": 260,
     "status": "ok",
     "timestamp": 1680520108297,
     "user": {
      "displayName": "Yiming Lin",
      "userId": "14561580860602707809"
     },
     "user_tz": -60
    },
    "id": "Mq0OGERuCwgv",
    "trusted": true
   },
   "outputs": [],
   "source": [
    "from sklearn.model_selection import train_test_split\n",
    "\n",
    "X_train, X_test, y_train, y_test = train_test_split(X, y, test_size = 0.3, random_state = 0)"
   ]
  },
  {
   "attachments": {},
   "cell_type": "markdown",
   "metadata": {},
   "source": [
    "## H1N1_vaccine"
   ]
  },
  {
   "attachments": {},
   "cell_type": "markdown",
   "metadata": {},
   "source": [
    "### UnderSampling"
   ]
  },
  {
   "cell_type": "code",
   "execution_count": 21,
   "metadata": {
    "executionInfo": {
     "elapsed": 1943,
     "status": "ok",
     "timestamp": 1680520114248,
     "user": {
      "displayName": "Yiming Lin",
      "userId": "14561580860602707809"
     },
     "user_tz": -60
    },
    "id": "1toEnxMYC7Jp",
    "trusted": true
   },
   "outputs": [],
   "source": [
    "from imblearn.under_sampling import NearMiss\n",
    "nm = NearMiss()\n",
    "X_train,y_train = nm.fit_resample(X_train,y_train)"
   ]
  },
  {
   "attachments": {},
   "cell_type": "markdown",
   "metadata": {},
   "source": [
    "### Oversampling"
   ]
  },
  {
   "cell_type": "code",
   "execution_count": 19,
   "metadata": {},
   "outputs": [],
   "source": [
    "from imblearn.over_sampling import SVMSMOTE\n",
    "svmsmo = SVMSMOTE(random_state = 0)\n",
    "X_train,y_train = svmsmo.fit_resample(X_train,y_train)"
   ]
  },
  {
   "cell_type": "code",
   "execution_count": 103,
   "metadata": {},
   "outputs": [],
   "source": [
    "from imblearn.over_sampling import KMeansSMOTE\n",
    "kmsmo = KMeansSMOTE(random_state = 0)\n",
    "X_train,y_train = svmsmo.fit_resample(X_train,y_train)"
   ]
  },
  {
   "cell_type": "code",
   "execution_count": 36,
   "metadata": {},
   "outputs": [],
   "source": [
    "from imblearn.over_sampling import ADASYN\n",
    "ada = ADASYN(random_state = 0)\n",
    "X_train,y_train = ada.fit_resample(X_train,y_train)"
   ]
  },
  {
   "attachments": {},
   "cell_type": "markdown",
   "metadata": {},
   "source": [
    "### Combine Under-Sampling and Over-Sampling"
   ]
  },
  {
   "cell_type": "code",
   "execution_count": 39,
   "metadata": {},
   "outputs": [],
   "source": [
    "from imblearn.combine import SMOTETomek\n",
    "smo = SMOTETomek(random_state=0)\n",
    "X_train,y_train = smo.fit_resample(X_train,y_train)"
   ]
  },
  {
   "cell_type": "code",
   "execution_count": 95,
   "metadata": {
    "colab": {
     "base_uri": "https://localhost:8080/"
    },
    "executionInfo": {
     "elapsed": 4,
     "status": "ok",
     "timestamp": 1680520116824,
     "user": {
      "displayName": "Yiming Lin",
      "userId": "14561580860602707809"
     },
     "user_tz": -60
    },
    "id": "2pLcRoKBC9YG",
    "outputId": "e7794b67-cea1-4c0e-984a-c169ed47f443",
    "trusted": true
   },
   "outputs": [
    {
     "data": {
      "text/plain": [
       "Counter({0: 14754, 1: 14754})"
      ]
     },
     "execution_count": 95,
     "metadata": {},
     "output_type": "execute_result"
    }
   ],
   "source": [
    "from collections import Counter\n",
    "Counter(y_train)"
   ]
  },
  {
   "attachments": {},
   "cell_type": "markdown",
   "metadata": {},
   "source": [
    "### CatBoosting"
   ]
  },
  {
   "cell_type": "code",
   "execution_count": 96,
   "metadata": {},
   "outputs": [],
   "source": [
    "train_data_h1n1 = Pool(data = X_train,label = y_train,cat_features = [0,11])"
   ]
  },
  {
   "cell_type": "code",
   "execution_count": 99,
   "metadata": {},
   "outputs": [],
   "source": [
    "def objective(trial):\n",
    "    params_test1 = {\n",
    "        \"loss_function\":\"Logloss\",\n",
    "        \"eval_metric\":\"AUC\",\n",
    "        \"task_type\":\"CPU\",\n",
    "        'depth':trial.suggest_int(\"depth\", 6,10),\n",
    "        'iterations':trial.suggest_categorical('iterations', [100,200,300,500,1000,1200,1500]),\n",
    "        'l2_leaf_reg':trial.suggest_float(\"l2_leaf_reg\", 1e-8, 10),\n",
    "        # 'border_count':trial.suggest_int(\"border_count\", 10,50),\n",
    "        'early_stopping_rounds':trial.suggest_int(\"early_stopping_rounds\", 60,80),\n",
    "        'learning_rate':trial.suggest_float(\"learning_rate\", 0.01, 0.2),\n",
    "        'one_hot_max_size':trial.suggest_categorical('one_hot_max_size', [30,40,50,100,150,200]),\n",
    "        'min_data_in_leaf':trial.suggest_int(\"min_data_in_leaf\", 1,10),\n",
    "        'max_bin': trial.suggest_categorical('max_bin', [4,5,6,8,10,20,30]),\n",
    "        \"random_seed\":42,\n",
    "        \"od_type\":\"Iter\",\n",
    "        }\n",
    "\n",
    "    cat1 = CatBoostClassifier(**params_test1).fit(X_train,y_train,cat_features=[0,11],verbose=0)\n",
    "\n",
    "    scores = cv(train_data_h1n1,params_test1,fold_count=5,verbose=0)\n",
    "\n",
    "    return scores['test-AUC-mean'].max()"
   ]
  },
  {
   "cell_type": "code",
   "execution_count": null,
   "metadata": {},
   "outputs": [],
   "source": [
    "study1 = optuna.create_study(sampler = optuna.samplers.TPESampler(seed=42), direction=\"maximize\")\n",
    "study1.optimize(objective, n_trials = 100)"
   ]
  },
  {
   "cell_type": "code",
   "execution_count": null,
   "metadata": {},
   "outputs": [],
   "source": [
    "optuna.visualization.plot_param_importances(study1)"
   ]
  },
  {
   "cell_type": "code",
   "execution_count": null,
   "metadata": {},
   "outputs": [],
   "source": [
    "print(\"Number of completed trials: {}\".format(len(study1.trials))) \n",
    "print(\"Best trial:\") \n",
    "trial1 = study1.best_trial \n",
    " \n",
    "print(\"\\tBest Score: {}\".format(trial1.value)) \n",
    "print(\"\\tBest Params: \") \n",
    "for key, value in trial1.params.items(): \n",
    "    print(\"    {}: {}\".format(key, value))"
   ]
  },
  {
   "cell_type": "code",
   "execution_count": null,
   "metadata": {},
   "outputs": [],
   "source": [
    "param_test1 = {'depth':range(6,11,1),'early_stopping_rounds':range(60,100,10),'l2_leaf_reg':range(1,5)}\n",
    "CB1 = GridSearchCV(estimator = CatBoostClassifier(eval_metric=\"AUC\",task_type=\"CPU\",random_seed=42,od_type=\"Iter\",learning_rate=0.1), \n",
    "                       param_grid = param_test1, scoring='roc_auc',cv=10)\n",
    "CB1.fit(X_train,y_train)\n",
    "print(CB1.cv_results_,CB1.best_params_, CB1.best_score_)"
   ]
  },
  {
   "cell_type": "code",
   "execution_count": 1,
   "metadata": {},
   "outputs": [
    {
     "ename": "NameError",
     "evalue": "name 'GridSearchCV' is not defined",
     "output_type": "error",
     "traceback": [
      "\u001b[1;31m---------------------------------------------------------------------------\u001b[0m",
      "\u001b[1;31mNameError\u001b[0m                                 Traceback (most recent call last)",
      "\u001b[1;32md:\\OneDrive - The University of Nottingham\\Data Modelling and Analysis\\CW2\\Vaccine_rate\\CourseWork2.ipynb Cell 64\u001b[0m in \u001b[0;36m<cell line: 2>\u001b[1;34m()\u001b[0m\n\u001b[0;32m      <a href='vscode-notebook-cell:/d%3A/OneDrive%20-%20The%20University%20of%20Nottingham/Data%20Modelling%20and%20Analysis/CW2/Vaccine_rate/CourseWork2.ipynb#Y120sZmlsZQ%3D%3D?line=0'>1</a>\u001b[0m param_test1 \u001b[39m=\u001b[39m {\u001b[39m'\u001b[39m\u001b[39mdepth\u001b[39m\u001b[39m'\u001b[39m:\u001b[39mrange\u001b[39m(\u001b[39m5\u001b[39m,\u001b[39m10\u001b[39m,\u001b[39m1\u001b[39m)}\n\u001b[1;32m----> <a href='vscode-notebook-cell:/d%3A/OneDrive%20-%20The%20University%20of%20Nottingham/Data%20Modelling%20and%20Analysis/CW2/Vaccine_rate/CourseWork2.ipynb#Y120sZmlsZQ%3D%3D?line=1'>2</a>\u001b[0m CB1 \u001b[39m=\u001b[39m GridSearchCV(estimator \u001b[39m=\u001b[39m CatBoostClassifier(loss_function\u001b[39m=\u001b[39m\u001b[39m\"\u001b[39m\u001b[39mLogloss\u001b[39m\u001b[39m\"\u001b[39m,eval_metric\u001b[39m=\u001b[39m\u001b[39m\"\u001b[39m\u001b[39mAUC\u001b[39m\u001b[39m\"\u001b[39m,task_type\u001b[39m=\u001b[39m\u001b[39m\"\u001b[39m\u001b[39mGPU\u001b[39m\u001b[39m\"\u001b[39m,random_seed\u001b[39m=\u001b[39m\u001b[39m42\u001b[39m,od_type\u001b[39m=\u001b[39m\u001b[39m\"\u001b[39m\u001b[39mIter\u001b[39m\u001b[39m\"\u001b[39m,l2_leaf_reg\u001b[39m=\u001b[39m\u001b[39m2\u001b[39m), \n\u001b[0;32m      <a href='vscode-notebook-cell:/d%3A/OneDrive%20-%20The%20University%20of%20Nottingham/Data%20Modelling%20and%20Analysis/CW2/Vaccine_rate/CourseWork2.ipynb#Y120sZmlsZQ%3D%3D?line=2'>3</a>\u001b[0m                        param_grid \u001b[39m=\u001b[39m param_test1, scoring\u001b[39m=\u001b[39m\u001b[39m'\u001b[39m\u001b[39mroc_auc\u001b[39m\u001b[39m'\u001b[39m,cv\u001b[39m=\u001b[39m\u001b[39m10\u001b[39m)\n\u001b[0;32m      <a href='vscode-notebook-cell:/d%3A/OneDrive%20-%20The%20University%20of%20Nottingham/Data%20Modelling%20and%20Analysis/CW2/Vaccine_rate/CourseWork2.ipynb#Y120sZmlsZQ%3D%3D?line=3'>4</a>\u001b[0m CB1\u001b[39m.\u001b[39mfit(X_train,y_train)\n\u001b[0;32m      <a href='vscode-notebook-cell:/d%3A/OneDrive%20-%20The%20University%20of%20Nottingham/Data%20Modelling%20and%20Analysis/CW2/Vaccine_rate/CourseWork2.ipynb#Y120sZmlsZQ%3D%3D?line=4'>5</a>\u001b[0m \u001b[39mprint\u001b[39m(CB1\u001b[39m.\u001b[39mcv_results_,CB1\u001b[39m.\u001b[39mbest_params_, CB1\u001b[39m.\u001b[39mbest_score_)\n",
      "\u001b[1;31mNameError\u001b[0m: name 'GridSearchCV' is not defined"
     ]
    }
   ],
   "source": [
    "param_test2 = {'early_stopping_rounds':range(50,100,10)}\n",
    "CB2 = GridSearchCV(estimator = CatBoostClassifier(eval_metric=\"AUC\",task_type=\"GPU\",random_seed=42,od_type=\"Iter\",depth=9, l2_leaf_reg=2.2430948663373496,\n",
    "                                                  learning_rate=0.01,loss_function=\"Logloss\"), \n",
    "                       param_grid = param_test2, scoring='roc_auc',cv=10)\n",
    "CB2.fit(X_train,y_train)\n",
    "CB2.best_params_, CB2.best_score_"
   ]
  },
  {
   "cell_type": "code",
   "execution_count": 20,
   "metadata": {},
   "outputs": [],
   "source": [
    "test_param = {\n",
    "    'depth': 9, 'l2_leaf_reg': 2.2430948663373496, 'early_stopping_rounds': 80, 'learning_rate': 0.01,\"loss_function\":\"Logloss\",\"eval_metric\":\"AUC\",\n",
    "    \"task_type\":\"CPU\",\"random_seed\":42,\"od_type\":\"Iter\",\n",
    "}"
   ]
  },
  {
   "attachments": {},
   "cell_type": "markdown",
   "metadata": {},
   "source": [
    "### Evaluation"
   ]
  },
  {
   "cell_type": "code",
   "execution_count": 21,
   "metadata": {},
   "outputs": [
    {
     "name": "stdout",
     "output_type": "stream",
     "text": [
      "Accuracy : 0.7897\n",
      "AUC Score (Train): 0.826467\n"
     ]
    }
   ],
   "source": [
    "model_h1n1 = CatBoostClassifier(verbose=False,  cat_features=[0,11],**test_param)\n",
    "model_h1n1.fit(X_train,y_train)\n",
    "y_pred_h1n1 = model_h1n1.predict(X_test)\n",
    "y_predprob_h1n1 = model_h1n1.predict_proba(X_test)[:,1]\n",
    "print (\"Accuracy : %.4g\" % metrics.accuracy_score(y_test, y_pred_h1n1))\n",
    "print (\"AUC Score (Train): %f\" % metrics.roc_auc_score(y_test, y_predprob_h1n1))"
   ]
  },
  {
   "cell_type": "code",
   "execution_count": null,
   "metadata": {
    "colab": {
     "base_uri": "https://localhost:8080/",
     "height": 1000
    },
    "executionInfo": {
     "elapsed": 3082947,
     "status": "ok",
     "timestamp": 1680523273616,
     "user": {
      "displayName": "Yiming Lin",
      "userId": "14561580860602707809"
     },
     "user_tz": -60
    },
    "id": "kPyqeNlF-_7J",
    "outputId": "cb6665e2-2921-4dea-a753-6d517ebf9eb4",
    "trusted": true
   },
   "outputs": [],
   "source": [
    "scores = cross_val_score(model, X, y, cv=10,scoring='roc_auc')\n",
    "plt.figure(figsize=(11,5))\n",
    "labels = [1, 2, 3, 4, 5,6,7,8,9,10]\n",
    "plt.plot(labels, scores, label=u'roc_auc')\n",
    "plt.xticks(labels)\n",
    "for x, y in zip((labels), scores):\n",
    "    plt.text(x, y,\"%.2f\" % y, ha=\"center\", va=\"bottom\",fontsize=10)\n",
    "plt.title(\"Cross validation\")\n",
    "plt.legend()\n",
    "plt.show()"
   ]
  },
  {
   "cell_type": "code",
   "execution_count": 35,
   "metadata": {
    "colab": {
     "base_uri": "https://localhost:8080/",
     "height": 449
    },
    "executionInfo": {
     "elapsed": 1426,
     "status": "ok",
     "timestamp": 1680523668899,
     "user": {
      "displayName": "Yiming Lin",
      "userId": "14561580860602707809"
     },
     "user_tz": -60
    },
    "id": "8ysVsno1ypMB",
    "outputId": "db7d4c09-b6c3-4a00-8258-edddab6ff104"
   },
   "outputs": [
    {
     "data": {
      "image/png": "[encoded data removed]",
      "text/plain": [
       "<Figure size 640x480 with 1 Axes>"
      ]
     },
     "metadata": {},
     "output_type": "display_data"
    }
   ],
   "source": [
    "svc_disp = RocCurveDisplay.from_estimator(model_h1n1, X_test, y_test)\n",
    "plt.plot([0, 1], [0, 1], '--', color=(0.6, 0.6, 0.6), label='Random')\n",
    "plt.show()"
   ]
  },
  {
   "cell_type": "code",
   "execution_count": 27,
   "metadata": {
    "colab": {
     "base_uri": "https://localhost:8080/",
     "height": 474
    },
    "executionInfo": {
     "elapsed": 589,
     "status": "ok",
     "timestamp": 1680526155396,
     "user": {
      "displayName": "Yiming Lin",
      "userId": "14561580860602707809"
     },
     "user_tz": -60
    },
    "id": "KL1E6E3YJ1lQ",
    "outputId": "f6f75bb0-97b5-4123-c492-7e3d7420482d"
   },
   "outputs": [
    {
     "name": "stdout",
     "output_type": "stream",
     "text": [
      "              precision    recall  f1-score   support\n",
      "\n",
      "           0       0.91      0.81      0.86      6279\n",
      "           1       0.51      0.70      0.59      1734\n",
      "\n",
      "    accuracy                           0.79      8013\n",
      "   macro avg       0.71      0.76      0.72      8013\n",
      "weighted avg       0.82      0.79      0.80      8013\n",
      "\n"
     ]
    },
    {
     "data": {
      "image/png": "[encoded data removed]",
      "text/plain": [
       "<Figure size 640x480 with 2 Axes>"
      ]
     },
     "metadata": {},
     "output_type": "display_data"
    },
    {
     "name": "stdout",
     "output_type": "stream",
     "text": [
      "              precision    recall  f1-score   support\n",
      "\n",
      "           0       0.91      0.81      0.86      6279\n",
      "           1       0.51      0.70      0.59      1734\n",
      "\n",
      "    accuracy                           0.79      8013\n",
      "   macro avg       0.71      0.76      0.72      8013\n",
      "weighted avg       0.82      0.79      0.80      8013\n",
      "\n"
     ]
    },
    {
     "data": {
      "image/png": "[encoded data removed]",
      "text/plain": [
       "<Figure size 300x300 with 1 Axes>"
      ]
     },
     "metadata": {},
     "output_type": "display_data"
    }
   ],
   "source": [
    "cm = confusion_matrix(y_test, y_pred_h1n1,labels=model_h1n1.classes_)\n",
    "\n",
    "disp = ConfusionMatrixDisplay(confusion_matrix=cm, display_labels=model_h1n1.classes_)\n",
    "disp.plot()\n",
    "print(classification_report(y_test, y_pred_h1n1))\n",
    "plt.show()\n",
    "\n",
    "\n",
    "# Plot confusion matrix, \n",
    "fig, ax = plt.subplots(figsize=(3, 3))\n",
    "ax.matshow(cm, cmap=plt.cm.Blues, alpha=0.3)\n",
    "for i in range(cm.shape[0]):\n",
    "    for j in range(cm.shape[1]):\n",
    "        ax.text(x=j, y=i,\n",
    "            s=cm[i, j], \n",
    "            va='center', ha='center')\n",
    "        \n",
    "classes=[\"0\",\"1\"]\n",
    "tick_marks = np.arange(len(classes))\n",
    "plt.xticks(tick_marks, classes, rotation=45)\n",
    "plt.yticks(tick_marks, classes)\n",
    "plt.xlabel('Predicted Values', )\n",
    "plt.ylabel('Actual Values');\n",
    "print(classification_report(y_test, y_pred_h1n1))"
   ]
  },
  {
   "attachments": {},
   "cell_type": "markdown",
   "metadata": {},
   "source": [
    "## Seaconal_vaccine"
   ]
  },
  {
   "attachments": {},
   "cell_type": "markdown",
   "metadata": {},
   "source": [
    "### CatBoosting"
   ]
  },
  {
   "cell_type": "code",
   "execution_count": 14,
   "metadata": {},
   "outputs": [],
   "source": [
    "from sklearn.model_selection import train_test_split\n",
    "\n",
    "X_train, X_test, y_sea_train, y_sea_test = train_test_split(X, y_sea, test_size = 0.2, random_state = 0)"
   ]
  },
  {
   "cell_type": "code",
   "execution_count": 73,
   "metadata": {},
   "outputs": [],
   "source": [
    "train_data_seasonal = Pool(data = X_train,label = y_sea_train,cat_features = [0,11])"
   ]
  },
  {
   "cell_type": "code",
   "execution_count": 90,
   "metadata": {},
   "outputs": [],
   "source": [
    "def objective2(trial):\n",
    "    params_test2 = {\n",
    "        \"loss_function\":\"Logloss\",\n",
    "        \"eval_metric\":\"AUC\",\n",
    "        \"task_type\":\"CPU\",\n",
    "        'depth':trial.suggest_int(\"depth\", 6,10),\n",
    "        'iterations':trial.suggest_categorical('iterations', [1000,1200,1500, 2000]),\n",
    "        'l2_leaf_reg':trial.suggest_float(\"l2_leaf_reg\", 1e-8, 10),\n",
    "#         'border_count':trial.suggest_int(\"border_count\", 10,50),\n",
    "        'early_stopping_rounds':trial.suggest_int(\"early_stopping_rounds\", 60,100),\n",
    "        'learning_rate':trial.suggest_float(\"learning_rate\", 0.01, 0.2),\n",
    "#         'one_hot_max_size':trial.suggest_categorical('one_hot_max_size', [30,50,100,150,200,256]),\n",
    "        \"boosting_type\": trial.suggest_categorical(\"boosting_type\", [\"Ordered\", \"Plain\"]),\n",
    "        \"bootstrap_type\": trial.suggest_categorical(\"bootstrap_type\", [\"Bayesian\", \"Bernoulli\", \"MVS\"]),\n",
    "        'min_data_in_leaf':trial.suggest_int(\"min_data_in_leaf\", 1,10),\n",
    "        'max_bin': trial.suggest_categorical('max_bin', [4,5,6,8,10,20,30]),\n",
    "        \"random_seed\":42,\n",
    "        \"od_type\":\"Iter\"\n",
    "        }\n",
    "\n",
    "    cat2 = CatBoostClassifier(**params_test2).fit(X_train,y_sea_train,cat_features=[0,11],verbose=0)\n",
    "\n",
    "    scores = cv(train_data_seasonal,params_test2,fold_count=5,verbose=0)\n",
    "\n",
    "    return scores['test-AUC-mean'].max()"
   ]
  },
  {
   "cell_type": "code",
   "execution_count": null,
   "metadata": {},
   "outputs": [],
   "source": [
    "study2 = optuna.create_study(sampler = optuna.samplers.TPESampler(seed=42), direction=\"maximize\")\n",
    "study2.optimize(objective2, n_trials = 100)"
   ]
  },
  {
   "cell_type": "code",
   "execution_count": null,
   "metadata": {},
   "outputs": [],
   "source": [
    "optuna.visualization.plot_param_importances(study2)"
   ]
  },
  {
   "cell_type": "code",
   "execution_count": null,
   "metadata": {},
   "outputs": [],
   "source": [
    "print(\"Number of completed trials: {}\".format(len(study2.trials))) \n",
    "print(\"Best trial:\") \n",
    "trial2 = study2.best_trial \n",
    " \n",
    "print(\"\\tBest Score: {}\".format(trial2.value)) \n",
    "print(\"\\tBest Params: \") \n",
    "for key, value in trial2.params.items(): \n",
    "    print(\"    {}: {}\".format(key, value))"
   ]
  },
  {
   "attachments": {},
   "cell_type": "markdown",
   "metadata": {},
   "source": [
    "### Evaluation"
   ]
  },
  {
   "cell_type": "code",
   "execution_count": null,
   "metadata": {},
   "outputs": [],
   "source": [
    "test_param2 = {\n",
    "    'depth': 8, 'l2_leaf_reg': 2, 'early_stopping_rounds': 65, 'learning_rate': 0.01, \"loss_function\":\"Logloss\",\"eval_metric\":\"AUC\",\n",
    "    \"task_type\":\"CPU\",\"random_seed\":42,\"od_type\":\"Iter\",\n",
    "}"
   ]
  },
  {
   "cell_type": "code",
   "execution_count": null,
   "metadata": {},
   "outputs": [],
   "source": [
    "model_seasonal = CatBoostClassifier(verbose=False,  cat_features=[0,11], **trial2.params)\n",
    "model_seasonal.fit(X_train,y_sea_train)\n",
    "y_pred_seasonal = model_seasonal.predict(X_test)\n",
    "y_predprob_seasonal = model_seasonal.predict_proba(X_test)[:,1]\n",
    "print (\"Accuracy : %.4g\" % metrics.accuracy_score(y_sea_test, y_pred_seasonal))\n",
    "print (\"AUC Score (Train): %f\" % metrics.roc_auc_score(y_sea_test, y_predprob_seasonal))"
   ]
  },
  {
   "cell_type": "code",
   "execution_count": null,
   "metadata": {},
   "outputs": [],
   "source": [
    "svc_disp = RocCurveDisplay.from_estimator(model_seasonal, X_test, y_sea_test)\n",
    "plt.plot([0, 1], [0, 1], '--', color=(0.6, 0.6, 0.6), label='Random')\n",
    "plt.show()"
   ]
  },
  {
   "cell_type": "code",
   "execution_count": null,
   "metadata": {},
   "outputs": [],
   "source": [
    "cm = confusion_matrix(y_sea_test, y_pred_seasonal)\n",
    "# Plot confusion matrix, \n",
    "fig, ax = plt.subplots(figsize=(3, 3))\n",
    "ax.matshow(cm, cmap=plt.cm.Blues, alpha=0.3)\n",
    "for i in range(cm.shape[0]):\n",
    "    for j in range(cm.shape[1]):\n",
    "        ax.text(x=j, y=i,\n",
    "            s=cm[i, j], \n",
    "            va='center', ha='center')\n",
    "        \n",
    "classes=[\"0\",\"1\"]\n",
    "tick_marks = np.arange(len(classes))\n",
    "plt.xticks(tick_marks, classes, rotation=45)\n",
    "plt.yticks(tick_marks, classes)\n",
    "plt.xlabel('Predicted Values', )\n",
    "plt.ylabel('Actual Values');\n",
    "print(classification_report(y_sea_test, y_pred_seasonal))"
   ]
  },
  {
   "attachments": {},
   "cell_type": "markdown",
   "metadata": {},
   "source": [
    "## Total"
   ]
  },
  {
   "cell_type": "code",
   "execution_count": null,
   "metadata": {},
   "outputs": [],
   "source": [
    "from sklearn.model_selection import train_test_split\n",
    "\n",
    "X_train, X_test, y_total_train, y_total_test = train_test_split(X, y_total, test_size = 0.2, random_state = 0)"
   ]
  },
  {
   "cell_type": "code",
   "execution_count": null,
   "metadata": {},
   "outputs": [],
   "source": [
    "train_data_seasonal = Pool(data = X_train,label = y_total_train,\n",
    "                       cat_features = [0,11])"
   ]
  },
  {
   "cell_type": "code",
   "execution_count": null,
   "metadata": {},
   "outputs": [],
   "source": [
    "def objective3(trial):\n",
    "    params_test3 = {\n",
    "        \"loss_function\":\"Logloss\",\n",
    "        \"eval_metric\":\"AUC\",\n",
    "        \"task_type\":\"CPU\",\n",
    "        'depth':trial.suggest_int(\"depth\", 6,10),\n",
    "        # 'iterations':trial.suggest_categorical('iterations', [500,1000,3000,5000,10000,15000,20000]),\n",
    "        'l2_leaf_reg':trial.suggest_float(\"l2_leaf_reg\", 1e-8, 10),\n",
    "#         'border_count':trial.suggest_int(\"border_count\", 10,50),\n",
    "        'early_stopping_rounds':trial.suggest_int(\"early_stopping_rounds\", 10,100),\n",
    "        'learning_rate':trial.suggest_float(\"learning_rate\", 0.001, 0.2),\n",
    "#         'one_hot_max_size':trial.suggest_categorical('one_hot_max_size', [10,31,50,100,150,200,256]),\n",
    "#         \"boosting_type\": trial.suggest_categorical(\"boosting_type\", [\"Ordered\", \"Plain\"]),\n",
    "        \"bootstrap_type\": trial.suggest_categorical(\"bootstrap_type\", [\"Bayesian\", \"Bernoulli\", \"MVS\"]),\n",
    "        \"random_seed\":42,\n",
    "        \"od_type\":\"Iter\"\n",
    "        }\n",
    "    \n",
    "    if params_test3[\"bootstrap_type\"] == \"Bayesian\":\n",
    "        params_test3[\"bagging_temperature\"] = trial.suggest_float(\"bagging_temperature\", 0, 10)\n",
    "    elif params_test3[\"bootstrap_type\"] == \"Bernoulli\":\n",
    "        params_test3[\"subsample\"] = trial.suggest_float(\"subsample\", 0.1, 1)\n",
    "\n",
    "    cat3 = CatBoostClassifier(**params_test3).fit(X_train,y_total_train,cat_features=[0,11],verbose=0)\n",
    "\n",
    "    scores = cv(train_data_seasonal,params_test3,fold_count=5,verbose=0)\n",
    "\n",
    "    return scores['test-AUC-mean'].max()"
   ]
  },
  {
   "cell_type": "code",
   "execution_count": null,
   "metadata": {},
   "outputs": [],
   "source": [
    "study3 = optuna.create_study(sampler = optuna.samplers.TPESampler(seed=42), direction=\"maximize\")\n",
    "study3.optimize(objective3, n_trials = 100)"
   ]
  },
  {
   "cell_type": "code",
   "execution_count": null,
   "metadata": {},
   "outputs": [],
   "source": [
    "optuna.visualization.plot_param_importances(study3)"
   ]
  },
  {
   "cell_type": "code",
   "execution_count": null,
   "metadata": {},
   "outputs": [],
   "source": [
    "print(\"Number of completed trials: {}\".format(len(study3.trials))) \n",
    "print(\"Best trial:\") \n",
    "trial3 = study3.best_trial \n",
    " \n",
    "print(\"\\tBest Score: {}\".format(trial3.value)) \n",
    "print(\"\\tBest Params: \") \n",
    "for key, value in trial3.params.items(): \n",
    "    print(\"    {}: {}\".format(key, value))"
   ]
  },
  {
   "cell_type": "code",
   "execution_count": null,
   "metadata": {},
   "outputs": [],
   "source": [
    "model_total = CatBoostClassifier(verbose=False,  cat_features=[0,11])\n",
    "model_total.fit(X_train,y_total_train)\n",
    "y_pred_total = model_total.predict(X_test)\n",
    "y_predprob_total = model_total.predict_proba(X_test)[:,1]\n",
    "print (\"Accuracy : %.4g\" % metrics.accuracy_score(y_total_test, y_pred_total))\n",
    "print (\"AUC Score (Train): %f\" % metrics.roc_auc_score(y_total_test, y_predprob_total))"
   ]
  },
  {
   "cell_type": "code",
   "execution_count": null,
   "metadata": {},
   "outputs": [],
   "source": [
    "cm = confusion_matrix(y_total_test, y_pred_total)\n",
    "# Plot confusion matrix, \n",
    "fig, ax = plt.subplots(figsize=(3, 3))\n",
    "ax.matshow(cm, cmap=plt.cm.Blues, alpha=0.3)\n",
    "for i in range(cm.shape[0]):\n",
    "    for j in range(cm.shape[1]):\n",
    "        ax.text(x=j, y=i,\n",
    "            s=cm[i, j], \n",
    "            va='center', ha='center')\n",
    "        \n",
    "classes=[\"0\",\"1\"]\n",
    "tick_marks = np.arange(len(classes))\n",
    "plt.xticks(tick_marks, classes, rotation=45)\n",
    "plt.yticks(tick_marks, classes)\n",
    "plt.xlabel('Predicted Values', )\n",
    "plt.ylabel('Actual Values');\n",
    "print(classification_report(y_total_test, y_pred_total))"
   ]
  }
 ],
 "metadata": {
  "colab": {
   "provenance": []
  },
  "kernelspec": {
   "display_name": "mle_tf",
   "language": "python",
   "name": "python3"
  },
  "language_info": {
   "codemirror_mode": {
    "name": "ipython",
    "version": 3
   },
   "file_extension": ".py",
   "mimetype": "text/x-python",
   "name": "python",
   "nbconvert_exporter": "python",
   "pygments_lexer": "ipython3",
   "version": "3.9.13 (main, Oct 13 2022, 21:23:06) [MSC v.1916 64 bit (AMD64)]"
  },
  "vscode": {
   "interpreter": {
    "hash": "fddd058380f18197d6d1449e4a4ff4a7ca6e7a82388d160542fc7dc2e7788eb2"
   }
  }
 },
 "nbformat": 4,
 "nbformat_minor": 0
}
